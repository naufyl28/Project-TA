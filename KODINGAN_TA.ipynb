{
 "cells": [
  {
   "cell_type": "code",
   "execution_count": 1,
   "id": "2409d929-1fbc-45f4-ba5b-d50864fdc894",
   "metadata": {},
   "outputs": [
    {
     "name": "stdout",
     "output_type": "stream",
     "text": [
      "Requirement already satisfied: transformers[torch] in c:\\anaconda\\envs\\gpu_ta\\lib\\site-packages (4.51.3)\n",
      "Requirement already satisfied: filelock in c:\\anaconda\\envs\\gpu_ta\\lib\\site-packages (from transformers[torch]) (3.13.1)\n",
      "Requirement already satisfied: huggingface-hub<1.0,>=0.30.0 in c:\\anaconda\\envs\\gpu_ta\\lib\\site-packages (from transformers[torch]) (0.31.2)\n",
      "Requirement already satisfied: numpy>=1.17 in c:\\anaconda\\envs\\gpu_ta\\lib\\site-packages (from transformers[torch]) (2.1.2)\n",
      "Requirement already satisfied: packaging>=20.0 in c:\\anaconda\\envs\\gpu_ta\\lib\\site-packages (from transformers[torch]) (24.2)\n",
      "Requirement already satisfied: pyyaml>=5.1 in c:\\anaconda\\envs\\gpu_ta\\lib\\site-packages (from transformers[torch]) (6.0.2)\n",
      "Requirement already satisfied: regex!=2019.12.17 in c:\\anaconda\\envs\\gpu_ta\\lib\\site-packages (from transformers[torch]) (2024.11.6)\n",
      "Requirement already satisfied: requests in c:\\anaconda\\envs\\gpu_ta\\lib\\site-packages (from transformers[torch]) (2.32.3)\n",
      "Requirement already satisfied: tokenizers<0.22,>=0.21 in c:\\anaconda\\envs\\gpu_ta\\lib\\site-packages (from transformers[torch]) (0.21.1)\n",
      "Requirement already satisfied: safetensors>=0.4.3 in c:\\anaconda\\envs\\gpu_ta\\lib\\site-packages (from transformers[torch]) (0.5.3)\n",
      "Requirement already satisfied: tqdm>=4.27 in c:\\anaconda\\envs\\gpu_ta\\lib\\site-packages (from transformers[torch]) (4.67.1)\n",
      "Requirement already satisfied: torch>=2.0 in c:\\anaconda\\envs\\gpu_ta\\lib\\site-packages (from transformers[torch]) (2.7.0+cu118)\n",
      "Requirement already satisfied: accelerate>=0.26.0 in c:\\anaconda\\envs\\gpu_ta\\lib\\site-packages (from transformers[torch]) (1.6.0)\n",
      "Requirement already satisfied: fsspec>=2023.5.0 in c:\\anaconda\\envs\\gpu_ta\\lib\\site-packages (from huggingface-hub<1.0,>=0.30.0->transformers[torch]) (2024.6.1)\n",
      "Requirement already satisfied: typing-extensions>=3.7.4.3 in c:\\anaconda\\envs\\gpu_ta\\lib\\site-packages (from huggingface-hub<1.0,>=0.30.0->transformers[torch]) (4.12.2)\n",
      "Requirement already satisfied: psutil in c:\\anaconda\\envs\\gpu_ta\\lib\\site-packages (from accelerate>=0.26.0->transformers[torch]) (5.9.0)\n",
      "Requirement already satisfied: sympy>=1.13.3 in c:\\anaconda\\envs\\gpu_ta\\lib\\site-packages (from torch>=2.0->transformers[torch]) (1.13.3)\n",
      "Requirement already satisfied: networkx in c:\\anaconda\\envs\\gpu_ta\\lib\\site-packages (from torch>=2.0->transformers[torch]) (3.3)\n",
      "Requirement already satisfied: jinja2 in c:\\anaconda\\envs\\gpu_ta\\lib\\site-packages (from torch>=2.0->transformers[torch]) (3.1.4)\n",
      "Requirement already satisfied: mpmath<1.4,>=1.1.0 in c:\\anaconda\\envs\\gpu_ta\\lib\\site-packages (from sympy>=1.13.3->torch>=2.0->transformers[torch]) (1.3.0)\n",
      "Requirement already satisfied: colorama in c:\\anaconda\\envs\\gpu_ta\\lib\\site-packages (from tqdm>=4.27->transformers[torch]) (0.4.6)\n",
      "Requirement already satisfied: MarkupSafe>=2.0 in c:\\anaconda\\envs\\gpu_ta\\lib\\site-packages (from jinja2->torch>=2.0->transformers[torch]) (2.1.5)\n",
      "Requirement already satisfied: charset-normalizer<4,>=2 in c:\\anaconda\\envs\\gpu_ta\\lib\\site-packages (from requests->transformers[torch]) (3.3.2)\n",
      "Requirement already satisfied: idna<4,>=2.5 in c:\\anaconda\\envs\\gpu_ta\\lib\\site-packages (from requests->transformers[torch]) (3.7)\n",
      "Requirement already satisfied: urllib3<3,>=1.21.1 in c:\\anaconda\\envs\\gpu_ta\\lib\\site-packages (from requests->transformers[torch]) (2.3.0)\n",
      "Requirement already satisfied: certifi>=2017.4.17 in c:\\anaconda\\envs\\gpu_ta\\lib\\site-packages (from requests->transformers[torch]) (2025.4.26)\n",
      "Requirement already satisfied: accelerate in c:\\anaconda\\envs\\gpu_ta\\lib\\site-packages (1.6.0)\n",
      "Requirement already satisfied: numpy<3.0.0,>=1.17 in c:\\anaconda\\envs\\gpu_ta\\lib\\site-packages (from accelerate) (2.1.2)\n",
      "Requirement already satisfied: packaging>=20.0 in c:\\anaconda\\envs\\gpu_ta\\lib\\site-packages (from accelerate) (24.2)\n",
      "Requirement already satisfied: psutil in c:\\anaconda\\envs\\gpu_ta\\lib\\site-packages (from accelerate) (5.9.0)\n",
      "Requirement already satisfied: pyyaml in c:\\anaconda\\envs\\gpu_ta\\lib\\site-packages (from accelerate) (6.0.2)\n",
      "Requirement already satisfied: torch>=2.0.0 in c:\\anaconda\\envs\\gpu_ta\\lib\\site-packages (from accelerate) (2.7.0+cu118)\n",
      "Requirement already satisfied: huggingface-hub>=0.21.0 in c:\\anaconda\\envs\\gpu_ta\\lib\\site-packages (from accelerate) (0.31.2)\n",
      "Requirement already satisfied: safetensors>=0.4.3 in c:\\anaconda\\envs\\gpu_ta\\lib\\site-packages (from accelerate) (0.5.3)\n",
      "Requirement already satisfied: filelock in c:\\anaconda\\envs\\gpu_ta\\lib\\site-packages (from huggingface-hub>=0.21.0->accelerate) (3.13.1)\n",
      "Requirement already satisfied: fsspec>=2023.5.0 in c:\\anaconda\\envs\\gpu_ta\\lib\\site-packages (from huggingface-hub>=0.21.0->accelerate) (2024.6.1)\n",
      "Requirement already satisfied: requests in c:\\anaconda\\envs\\gpu_ta\\lib\\site-packages (from huggingface-hub>=0.21.0->accelerate) (2.32.3)\n",
      "Requirement already satisfied: tqdm>=4.42.1 in c:\\anaconda\\envs\\gpu_ta\\lib\\site-packages (from huggingface-hub>=0.21.0->accelerate) (4.67.1)\n",
      "Requirement already satisfied: typing-extensions>=3.7.4.3 in c:\\anaconda\\envs\\gpu_ta\\lib\\site-packages (from huggingface-hub>=0.21.0->accelerate) (4.12.2)\n",
      "Requirement already satisfied: sympy>=1.13.3 in c:\\anaconda\\envs\\gpu_ta\\lib\\site-packages (from torch>=2.0.0->accelerate) (1.13.3)\n",
      "Requirement already satisfied: networkx in c:\\anaconda\\envs\\gpu_ta\\lib\\site-packages (from torch>=2.0.0->accelerate) (3.3)\n",
      "Requirement already satisfied: jinja2 in c:\\anaconda\\envs\\gpu_ta\\lib\\site-packages (from torch>=2.0.0->accelerate) (3.1.4)\n",
      "Requirement already satisfied: mpmath<1.4,>=1.1.0 in c:\\anaconda\\envs\\gpu_ta\\lib\\site-packages (from sympy>=1.13.3->torch>=2.0.0->accelerate) (1.3.0)\n",
      "Requirement already satisfied: colorama in c:\\anaconda\\envs\\gpu_ta\\lib\\site-packages (from tqdm>=4.42.1->huggingface-hub>=0.21.0->accelerate) (0.4.6)\n",
      "Requirement already satisfied: MarkupSafe>=2.0 in c:\\anaconda\\envs\\gpu_ta\\lib\\site-packages (from jinja2->torch>=2.0.0->accelerate) (2.1.5)\n",
      "Requirement already satisfied: charset-normalizer<4,>=2 in c:\\anaconda\\envs\\gpu_ta\\lib\\site-packages (from requests->huggingface-hub>=0.21.0->accelerate) (3.3.2)\n",
      "Requirement already satisfied: idna<4,>=2.5 in c:\\anaconda\\envs\\gpu_ta\\lib\\site-packages (from requests->huggingface-hub>=0.21.0->accelerate) (3.7)\n",
      "Requirement already satisfied: urllib3<3,>=1.21.1 in c:\\anaconda\\envs\\gpu_ta\\lib\\site-packages (from requests->huggingface-hub>=0.21.0->accelerate) (2.3.0)\n",
      "Requirement already satisfied: certifi>=2017.4.17 in c:\\anaconda\\envs\\gpu_ta\\lib\\site-packages (from requests->huggingface-hub>=0.21.0->accelerate) (2025.4.26)\n",
      "Requirement already satisfied: emoji in c:\\anaconda\\envs\\gpu_ta\\lib\\site-packages (2.14.1)\n",
      "Requirement already satisfied: ipywidgets in c:\\anaconda\\envs\\gpu_ta\\lib\\site-packages (8.1.7)\n",
      "Requirement already satisfied: comm>=0.1.3 in c:\\anaconda\\envs\\gpu_ta\\lib\\site-packages (from ipywidgets) (0.2.1)\n",
      "Requirement already satisfied: ipython>=6.1.0 in c:\\anaconda\\envs\\gpu_ta\\lib\\site-packages (from ipywidgets) (9.1.0)\n",
      "Requirement already satisfied: traitlets>=4.3.1 in c:\\anaconda\\envs\\gpu_ta\\lib\\site-packages (from ipywidgets) (5.14.3)\n",
      "Requirement already satisfied: widgetsnbextension~=4.0.14 in c:\\anaconda\\envs\\gpu_ta\\lib\\site-packages (from ipywidgets) (4.0.14)\n",
      "Requirement already satisfied: jupyterlab_widgets~=3.0.15 in c:\\anaconda\\envs\\gpu_ta\\lib\\site-packages (from ipywidgets) (3.0.15)\n",
      "Requirement already satisfied: colorama in c:\\anaconda\\envs\\gpu_ta\\lib\\site-packages (from ipython>=6.1.0->ipywidgets) (0.4.6)\n",
      "Requirement already satisfied: decorator in c:\\anaconda\\envs\\gpu_ta\\lib\\site-packages (from ipython>=6.1.0->ipywidgets) (5.1.1)\n",
      "Requirement already satisfied: ipython-pygments-lexers in c:\\anaconda\\envs\\gpu_ta\\lib\\site-packages (from ipython>=6.1.0->ipywidgets) (1.1.1)\n",
      "Requirement already satisfied: jedi>=0.16 in c:\\anaconda\\envs\\gpu_ta\\lib\\site-packages (from ipython>=6.1.0->ipywidgets) (0.19.2)\n",
      "Requirement already satisfied: matplotlib-inline in c:\\anaconda\\envs\\gpu_ta\\lib\\site-packages (from ipython>=6.1.0->ipywidgets) (0.1.6)\n",
      "Requirement already satisfied: prompt_toolkit<3.1.0,>=3.0.41 in c:\\anaconda\\envs\\gpu_ta\\lib\\site-packages (from ipython>=6.1.0->ipywidgets) (3.0.43)\n",
      "Requirement already satisfied: pygments>=2.4.0 in c:\\anaconda\\envs\\gpu_ta\\lib\\site-packages (from ipython>=6.1.0->ipywidgets) (2.19.1)\n",
      "Requirement already satisfied: stack_data in c:\\anaconda\\envs\\gpu_ta\\lib\\site-packages (from ipython>=6.1.0->ipywidgets) (0.2.0)\n",
      "Requirement already satisfied: typing_extensions>=4.6 in c:\\anaconda\\envs\\gpu_ta\\lib\\site-packages (from ipython>=6.1.0->ipywidgets) (4.12.2)\n",
      "Requirement already satisfied: wcwidth in c:\\anaconda\\envs\\gpu_ta\\lib\\site-packages (from prompt_toolkit<3.1.0,>=3.0.41->ipython>=6.1.0->ipywidgets) (0.2.5)\n",
      "Requirement already satisfied: parso<0.9.0,>=0.8.4 in c:\\anaconda\\envs\\gpu_ta\\lib\\site-packages (from jedi>=0.16->ipython>=6.1.0->ipywidgets) (0.8.4)\n",
      "Requirement already satisfied: executing in c:\\anaconda\\envs\\gpu_ta\\lib\\site-packages (from stack_data->ipython>=6.1.0->ipywidgets) (0.8.3)\n",
      "Requirement already satisfied: asttokens in c:\\anaconda\\envs\\gpu_ta\\lib\\site-packages (from stack_data->ipython>=6.1.0->ipywidgets) (3.0.0)\n",
      "Requirement already satisfied: pure-eval in c:\\anaconda\\envs\\gpu_ta\\lib\\site-packages (from stack_data->ipython>=6.1.0->ipywidgets) (0.2.2)\n"
     ]
    }
   ],
   "source": [
    "!pip install transformers[torch]\n",
    "!pip install accelerate\n",
    "!pip install emoji\n",
    "!pip install ipywidgets"
   ]
  },
  {
   "cell_type": "code",
   "execution_count": 2,
   "id": "9d88206a-1bd5-4be0-bda1-6278d9c6ba78",
   "metadata": {},
   "outputs": [],
   "source": [
    "import torch\n",
    "import numpy as np\n",
    "import pandas as pd\n",
    "import matplotlib.pyplot as plt\n",
    "import pandas as pd\n",
    "import numpy as np\n",
    "import csv\n",
    "import torch\n",
    "from sklearn.model_selection import train_test_split\n",
    "from sklearn.metrics import accuracy_score, precision_score, recall_score, f1_score\n",
    "from transformers import BertTokenizer, BertForSequenceClassification\n",
    "from torch.utils.data import DataLoader, Dataset\n",
    "from transformers import Trainer, TrainingArguments\n",
    "from transformers import EarlyStoppingCallback"
   ]
  },
  {
   "cell_type": "code",
   "execution_count": 3,
   "id": "8313ad3b-f8b9-40b5-a39a-7e71e83c4bfd",
   "metadata": {},
   "outputs": [
    {
     "name": "stdout",
     "output_type": "stream",
     "text": [
      "2.7.0+cu118\n"
     ]
    }
   ],
   "source": [
    "print(torch.__version__)"
   ]
  },
  {
   "cell_type": "code",
   "execution_count": 4,
   "id": "e85781ad-01c8-4c5f-baec-026de12100ff",
   "metadata": {},
   "outputs": [
    {
     "name": "stdout",
     "output_type": "stream",
     "text": [
      "Mon May 19 20:48:02 2025       \n",
      "+-----------------------------------------------------------------------------------------+\n",
      "| NVIDIA-SMI 576.02                 Driver Version: 576.02         CUDA Version: 12.9     |\n",
      "|-----------------------------------------+------------------------+----------------------+\n",
      "| GPU  Name                  Driver-Model | Bus-Id          Disp.A | Volatile Uncorr. ECC |\n",
      "| Fan  Temp   Perf          Pwr:Usage/Cap |           Memory-Usage | GPU-Util  Compute M. |\n",
      "|                                         |                        |               MIG M. |\n",
      "|=========================================+========================+======================|\n",
      "|   0  NVIDIA GeForce GTX 1650 Ti   WDDM  |   00000000:01:00.0 Off |                  N/A |\n",
      "| N/A   50C    P8              4W /   50W |       0MiB /   4096MiB |      0%      Default |\n",
      "|                                         |                        |                  N/A |\n",
      "+-----------------------------------------+------------------------+----------------------+\n",
      "                                                                                         \n",
      "+-----------------------------------------------------------------------------------------+\n",
      "| Processes:                                                                              |\n",
      "|  GPU   GI   CI              PID   Type   Process name                        GPU Memory |\n",
      "|        ID   ID                                                               Usage      |\n",
      "|=========================================================================================|\n",
      "+-----------------------------------------------------------------------------------------+\n"
     ]
    }
   ],
   "source": [
    "!nvidia-smi"
   ]
  },
  {
   "cell_type": "code",
   "execution_count": 5,
   "id": "12375c0c-07e2-4341-80f6-4f88dcf83097",
   "metadata": {},
   "outputs": [
    {
     "data": {
      "text/html": [
       "<div>\n",
       "<style scoped>\n",
       "    .dataframe tbody tr th:only-of-type {\n",
       "        vertical-align: middle;\n",
       "    }\n",
       "\n",
       "    .dataframe tbody tr th {\n",
       "        vertical-align: top;\n",
       "    }\n",
       "\n",
       "    .dataframe thead th {\n",
       "        text-align: right;\n",
       "    }\n",
       "</style>\n",
       "<table border=\"1\" class=\"dataframe\">\n",
       "  <thead>\n",
       "    <tr style=\"text-align: right;\">\n",
       "      <th></th>\n",
       "      <th>textDisplay</th>\n",
       "      <th>label_manual</th>\n",
       "    </tr>\n",
       "  </thead>\n",
       "  <tbody>\n",
       "    <tr>\n",
       "      <th>0</th>\n",
       "      <td>Hutan Bojonegoro udah habis di tebang i,,dan d...</td>\n",
       "      <td>0</td>\n",
       "    </tr>\n",
       "    <tr>\n",
       "      <th>1</th>\n",
       "      <td>Jangan khawatir deforestasi!!, kata pak presiden</td>\n",
       "      <td>1</td>\n",
       "    </tr>\n",
       "    <tr>\n",
       "      <th>2</th>\n",
       "      <td>Assalamu&amp;#39;alaikum, izin mengambil salah sat...</td>\n",
       "      <td>1</td>\n",
       "    </tr>\n",
       "    <tr>\n",
       "      <th>3</th>\n",
       "      <td>Saya tetap yakin kita terlahir dari nenek moya...</td>\n",
       "      <td>2</td>\n",
       "    </tr>\n",
       "    <tr>\n",
       "      <th>4</th>\n",
       "      <td>sekarang rasakan panasnya nggk seperti biasany...</td>\n",
       "      <td>1</td>\n",
       "    </tr>\n",
       "    <tr>\n",
       "      <th>5</th>\n",
       "      <td>Sbnr nya hutan milik siapa? Kok berani membaba...</td>\n",
       "      <td>1</td>\n",
       "    </tr>\n",
       "    <tr>\n",
       "      <th>6</th>\n",
       "      <td>demi menyenangkan sahabat jokowi, si haji Is*m...</td>\n",
       "      <td>0</td>\n",
       "    </tr>\n",
       "    <tr>\n",
       "      <th>7</th>\n",
       "      <td>Mampus.....Suatu saat kalimantan bakalan gundul</td>\n",
       "      <td>0</td>\n",
       "    </tr>\n",
       "    <tr>\n",
       "      <th>8</th>\n",
       "      <td>Kalau orang hidup di kabupaten KKU berdampinga...</td>\n",
       "      <td>0</td>\n",
       "    </tr>\n",
       "    <tr>\n",
       "      <th>9</th>\n",
       "      <td>Kalimantan rusak itu akibat ulah pejabat dan o...</td>\n",
       "      <td>0</td>\n",
       "    </tr>\n",
       "  </tbody>\n",
       "</table>\n",
       "</div>"
      ],
      "text/plain": [
       "                                         textDisplay  label_manual\n",
       "0  Hutan Bojonegoro udah habis di tebang i,,dan d...             0\n",
       "1   Jangan khawatir deforestasi!!, kata pak presiden             1\n",
       "2  Assalamu&#39;alaikum, izin mengambil salah sat...             1\n",
       "3  Saya tetap yakin kita terlahir dari nenek moya...             2\n",
       "4  sekarang rasakan panasnya nggk seperti biasany...             1\n",
       "5  Sbnr nya hutan milik siapa? Kok berani membaba...             1\n",
       "6  demi menyenangkan sahabat jokowi, si haji Is*m...             0\n",
       "7    Mampus.....Suatu saat kalimantan bakalan gundul             0\n",
       "8  Kalau orang hidup di kabupaten KKU berdampinga...             0\n",
       "9  Kalimantan rusak itu akibat ulah pejabat dan o...             0"
      ]
     },
     "execution_count": 5,
     "metadata": {},
     "output_type": "execute_result"
    }
   ],
   "source": [
    "import pandas as pd\n",
    "\n",
    "file_path = r'D:\\dataset\\Data TA_LABEL.csv'  \n",
    "\n",
    "df = pd.read_csv(file_path)\n",
    "df['label_manual'] = df['label_manual'].fillna(0).astype(int)\n",
    "\n",
    "df.head(10)"
   ]
  },
  {
   "cell_type": "code",
   "execution_count": 6,
   "id": "c3ef7afe-99a1-4ada-bb0d-f49447113e94",
   "metadata": {},
   "outputs": [
    {
     "name": "stdout",
     "output_type": "stream",
     "text": [
      "(857, 2)\n"
     ]
    }
   ],
   "source": [
    "print(df.shape)"
   ]
  },
  {
   "cell_type": "code",
   "execution_count": 7,
   "id": "e15be88d-731d-48f1-8f49-c98a6afc1e75",
   "metadata": {},
   "outputs": [
    {
     "name": "stdout",
     "output_type": "stream",
     "text": [
      "                                        cleaned_text  label_manual\n",
      "0  Hutan Bojonegoro udah habis di tebang idan di ...             0\n",
      "1      Jangan khawatir deforestasi kata pak presiden             1\n",
      "2  Assalamualaikum izin mengambil salah satu klip...             1\n",
      "3  Saya tetap yakin kita terlahir dari nenek moya...             2\n",
      "4  sekarang rasakan panasnya nggk seperti biasany...             1\n",
      "5  Sbnr nya hutan milik siapa Kok berani membabal...             1\n",
      "6  demi menyenangkan sahabat jokowi si haji Ism j...             0\n",
      "7         MampusSuatu saat kalimantan bakalan gundul             0\n",
      "8  Kalau orang hidup di kabupaten KKU berdampinga...             0\n",
      "9  Kalimantan rusak itu akibat ulah pejabat dan o...             0\n"
     ]
    }
   ],
   "source": [
    "import re\n",
    "from bs4 import BeautifulSoup\n",
    "import emoji\n",
    "\n",
    "def clean_text(text):\n",
    "    if isinstance(text, str):\n",
    "        if re.search(r'<.*?>', text):\n",
    "            text = BeautifulSoup(text, \"html.parser\").get_text()\n",
    "\n",
    "        text = emoji.replace_emoji(text, replace='')\n",
    "        text = re.sub(r'[^a-zA-Z\\s]', '', text)\n",
    "        text = re.sub(r'\\s+', ' ', text)\n",
    "        text = text.strip()\n",
    "    else:\n",
    "        text = \"\"\n",
    "\n",
    "    return text\n",
    "\n",
    "df['cleaned_text'] = df['textDisplay'].apply(clean_text)\n",
    "\n",
    "df = df[df['cleaned_text'] != \"\"]\n",
    "\n",
    "print(df[['cleaned_text', 'label_manual']].head(10))"
   ]
  },
  {
   "cell_type": "code",
   "execution_count": 8,
   "id": "dd737ca3-9c3e-437b-8472-32fcbb73868e",
   "metadata": {},
   "outputs": [],
   "source": [
    "output_path = r'D:\\dataset\\dataset_preprocessing.csv' \n",
    "df.to_csv(output_path, index=False)"
   ]
  },
  {
   "cell_type": "code",
   "execution_count": 9,
   "id": "baa55f93-17be-446e-88f1-d957ecb9f1b6",
   "metadata": {},
   "outputs": [
    {
     "name": "stdout",
     "output_type": "stream",
     "text": [
      "                                        cleaned_text  \\\n",
      "0  Hutan Bojonegoro udah habis di tebang idan di ...   \n",
      "1      Jangan khawatir deforestasi kata pak presiden   \n",
      "2  Assalamualaikum izin mengambil salah satu klip...   \n",
      "3  Saya tetap yakin kita terlahir dari nenek moya...   \n",
      "4  sekarang rasakan panasnya nggk seperti biasany...   \n",
      "5  Sbnr nya hutan milik siapa Kok berani membabal...   \n",
      "6  demi menyenangkan sahabat jokowi si haji Ism j...   \n",
      "7         MampusSuatu saat kalimantan bakalan gundul   \n",
      "8  Kalau orang hidup di kabupaten KKU berdampinga...   \n",
      "9  Kalimantan rusak itu akibat ulah pejabat dan o...   \n",
      "\n",
      "                                     normalized_text  \n",
      "0  hutan bojonegoro udah habis di tebang dan di t...  \n",
      "1      jangan khawatir deforestasi kata pak presiden  \n",
      "2  assalamualaikum izin mengambil salah satu klip...  \n",
      "3  saya tetap yakin kita terlahir dari nenek moya...  \n",
      "4  sekarang rasakan panasnya nggk seperti biasany...  \n",
      "5  sebenarnya  hutan milik siapa  berani membabal...  \n",
      "6  demi menyenangkan sahabat jokowi si haji ism j...  \n",
      "7         mampussuatu saat kalimantan bakalan gundul  \n",
      "8  kalau orang hidup di kabupaten kku berdampinga...  \n",
      "9  kalimantan rusak itu akibat ulah pejabat dan o...  \n"
     ]
    }
   ],
   "source": [
    "input_path = r'D:\\dataset\\dataset_preprocessing.csv'\n",
    "\n",
    "normalization_dict = {\n",
    "    'sbnrnya': 'sebenarnya',\n",
    "    'sbnr': 'sebenarnya',\n",
    "    'ak': 'aku',\n",
    "    'gk': 'gak',\n",
    "    'gak': 'tidak',\n",
    "    'yg': 'yang',\n",
    "    'klo': 'kalau',\n",
    "    'kl': 'kalau',\n",
    "    'bg': 'banget',\n",
    "    'gt': 'gitu',\n",
    "    'gtu': 'gitu',\n",
    "    'jgn': 'jangan',\n",
    "    'gpp': 'gapapa',\n",
    "    'jd': 'jadi',\n",
    "    'org': 'orang',\n",
    "    'tak': 'tidak',\n",
    "    'tgung': 'tanggung',\n",
    "    'sdh': 'sudah',\n",
    "    'dah': 'sudah',\n",
    "    'udh': 'sudah',\n",
    "    'dh': 'sudah',\n",
    "    'bgt': 'banget',\n",
    "    'tmn': 'teman',\n",
    "    'br': 'baru',\n",
    "    'lbh': 'lebih',\n",
    "    'krn': 'karena',\n",
    "    'SDA': 'sumber daya alam',\n",
    "    'seblm': 'sebelum',\n",
    "    'skrg': 'sekarang',\n",
    "    'skr': 'sekarang',\n",
    "    'gedhe': 'gede',\n",
    "    'ngk': 'engga',\n",
    "    'kn': 'kan',\n",
    "    'byk': 'banyak',\n",
    "    'bnyk': 'banyak',\n",
    "    'gw': 'aku',\n",
    "    'gue': 'aku',\n",
    "    'gwk': 'aku',\n",
    "    'loe': 'kamu',\n",
    "    'lu': 'kamu',\n",
    "    'lo': 'kamu',\n",
    "    'elu': 'kamu',\n",
    "    'elo': 'kamu',\n",
    "    'napa': 'kenapa',\n",
    "    'knp': 'kenapa',\n",
    "    'mgkn': 'mungkin',\n",
    "    'gmn': 'gimana',\n",
    "    'bkn': 'bukan',\n",
    "    'bs': 'bisa',\n",
    "    'bisa2': 'bisa-bisa',\n",
    "    'diaa': 'dia',\n",
    "    'bgtu': 'begitu',\n",
    "    'btw': 'ngomong-ngomong',\n",
    "    'dongg': 'dong',\n",
    "    'gituu': 'gitu',\n",
    "    'ntr': 'nanti',\n",
    "    'msh': 'masih',\n",
    "    'mauu': 'mau',\n",
    "    'yakinbgt': 'yakin banget',\n",
    "    'sampe': 'sampai',\n",
    "    'mo': 'mau',\n",
    "    'kek': 'seperti',\n",
    "    'kyk': 'seperti',\n",
    "    'ky': 'kayak',\n",
    "    'ga': 'tidak',\n",
    "    'enggak': 'tidak',\n",
    "    'engga': 'tidak',\n",
    "    'nggak': 'tidak',\n",
    "    'ngga': 'tidak',\n",
    "    'tdk': 'tidak',\n",
    "    'okee': 'oke',\n",
    "    'okeeee': 'oke',\n",
    "    'gtw': 'gatau',\n",
    "    'gatau': 'tidak tahu',\n",
    "    'gaada': 'tidak ada',\n",
    "    'gakada': 'tidak ada',\n",
    "    'gbs': 'tidak bisa',\n",
    "    'gabisa': 'tidak bisa',\n",
    "    'gajadi': 'tidak jadi',\n",
    "    'gapapa': 'tidak apa-apa',\n",
    "    'gausah': 'tidak usah',\n",
    "    'udahlah': 'sudah lah',\n",
    "    'kmn': 'kemana',\n",
    "    'kmna': 'kemana',\n",
    "    'sma': 'sama',\n",
    "    'mls': 'malas',\n",
    "    'mlas': 'malas',\n",
    "    'trs2': 'terus-terus',\n",
    "    'trus2': 'terus-terus',\n",
    "    'mager': 'malas gerak',\n",
    "    'drpd': 'daripada',\n",
    "    'abis': 'habis',\n",
    "    'mg': 'minggu',\n",
    "    'biar': 'agar',\n",
    "    'ampun': 'tidak sanggup',\n",
    "    'parahh': 'parah',\n",
    "    'zz': '',\n",
    "    'zzz': '',\n",
    "    'wkwk': '',\n",
    "    'wkwkwk': '',\n",
    "    'lol': '',\n",
    "    'hehe': '',\n",
    "    'haha': '',\n",
    "    'huhu': '',\n",
    "    'yaa': 'iya',\n",
    "    'iyaaa': 'iya',\n",
    "    'iiya': 'iya',\n",
    "    'okei': 'oke',\n",
    "    'okehh': 'oke',\n",
    "    'heemm': '',\n",
    "    'tp': 'tapi',\n",
    "    'dmn': 'dimana',\n",
    "    'aja': 'saja',\n",
    "    'dg': 'dengan',\n",
    "    'dr': 'dari',\n",
    "    'dpt': 'dapat',\n",
    "    'karna': 'karena',\n",
    "    'blm': 'belum',\n",
    "    'skrng': 'sekarang',\n",
    "    'ntar': 'nanti',\n",
    "    'kpn': 'kapan',\n",
    "    'trs': 'terus',\n",
    "    'pdhl': 'padahal',\n",
    "    'kmrn': 'kemarin',\n",
    "    'km': 'kamu',\n",
    "    'lg': 'lagi',\n",
    "    'mknya': 'makanya',\n",
    "    'trus': 'terus',\n",
    "    'donk': 'dong',\n",
    "    'sih': '',\n",
    "    'deh': '',\n",
    "    'nya': '',\n",
    "    'kok': '',\n",
    "    'hdh': '',\n",
    "    'cuma': 'hanya',\n",
    "    'cuman': 'hanya',\n",
    "    'y': 'ya',\n",
    "    'thx': 'terima kasih',\n",
    "    'thnk': 'terima kasih',\n",
    "    'makasih': 'terima kasih',\n",
    "    'thanks': 'terima kasih',\n",
    "    'sm': 'sama',\n",
    "    'sama2': 'sama-sama',\n",
    "    'sama2': 'sama-sama',\n",
    "    'idan': 'dan',\n",
    "    'pd': 'pada',\n",
    "    'ya': 'iya',\n",
    "    'nggk ': 'engga'\n",
    "}\n",
    "\n",
    "def normalize_text(text):\n",
    "    text = text.lower()\n",
    "    words = text.split()\n",
    "    normalized_words = [normalization_dict.get(word, word) for word in words]\n",
    "    return ' '.join(normalized_words)\n",
    "\n",
    "df['normalized_text'] = df['cleaned_text'].apply(normalize_text)\n",
    "print(df[['cleaned_text', 'normalized_text']].head(10))\n",
    "\n",
    "output_path = r'D:\\dataset\\cleaned_text.csv'\n",
    "df[['normalized_text', 'label_manual']].to_csv(output_path, index=False)"
   ]
  },
  {
   "cell_type": "code",
   "execution_count": 10,
   "id": "af528736-4d1b-457e-bef0-45f3aad604c8",
   "metadata": {},
   "outputs": [
    {
     "name": "stdout",
     "output_type": "stream",
     "text": [
      "Original dataset shape: label_manual\n",
      "0    515\n",
      "1    285\n",
      "2     47\n",
      "Name: count, dtype: int64\n",
      "Resampled dataset shape: label_manual\n",
      "0    515\n",
      "1    515\n",
      "2    515\n",
      "Name: count, dtype: int64\n",
      "                                          textDisplay  label_manual  \\\n",
      "0   Hutan Bojonegoro udah habis di tebang i,,dan d...             0   \n",
      "6   demi menyenangkan sahabat jokowi, si haji Is*m...             0   \n",
      "7     Mampus.....Suatu saat kalimantan bakalan gundul             0   \n",
      "8   Kalau orang hidup di kabupaten KKU berdampinga...             0   \n",
      "9   Kalimantan rusak itu akibat ulah pejabat dan o...             0   \n",
      "10  Sedih banget, merasa malu jadi manusia. Cuma b...             0   \n",
      "13  Semoga yg merusak hutan kalimantan mendpat bal...             0   \n",
      "14  Di luar negeri juga banyak yang gak setuju rai...             0   \n",
      "16  Hdh manusia serakah GK ada otak mementingkan d...             0   \n",
      "17  Akibat exploitasi lingkungan berlebih menimbul...             0   \n",
      "\n",
      "                                         cleaned_text  \\\n",
      "0   Hutan Bojonegoro udah habis di tebang idan di ...   \n",
      "6   demi menyenangkan sahabat jokowi si haji Ism j...   \n",
      "7          MampusSuatu saat kalimantan bakalan gundul   \n",
      "8   Kalau orang hidup di kabupaten KKU berdampinga...   \n",
      "9   Kalimantan rusak itu akibat ulah pejabat dan o...   \n",
      "10  Sedih banget merasa malu jadi manusia Cuma bis...   \n",
      "13  Semoga yg merusak hutan kalimantan mendpat bal...   \n",
      "14  Di luar negeri juga banyak yang gak setuju rai...   \n",
      "16  Hdh manusia serakah GK ada otak mementingkan d...   \n",
      "17  Akibat exploitasi lingkungan berlebih menimbul...   \n",
      "\n",
      "                                      normalized_text  \n",
      "0   hutan bojonegoro udah habis di tebang dan di t...  \n",
      "6   demi menyenangkan sahabat jokowi si haji ism j...  \n",
      "7          mampussuatu saat kalimantan bakalan gundul  \n",
      "8   kalau orang hidup di kabupaten kku berdampinga...  \n",
      "9   kalimantan rusak itu akibat ulah pejabat dan o...  \n",
      "10  sedih banget merasa malu jadi manusia hanya bi...  \n",
      "13  semoga yang merusak hutan kalimantan mendpat b...  \n",
      "14  di luar negeri juga banyak yang tidak setuju r...  \n",
      "16   manusia serakah gak ada otak mementingkan dir...  \n",
      "17  akibat exploitasi lingkungan berlebih menimbul...  \n"
     ]
    }
   ],
   "source": [
    "from sklearn.utils import resample\n",
    "import pandas as pd\n",
    "\n",
    "input_path = r'D:\\dataset\\cleaned_text.csv'\n",
    "\n",
    "X = df['normalized_text']\n",
    "y = df['label_manual']\n",
    "\n",
    "df_majority = df[df['label_manual'] == 0]  # Kelas mayoritas (label = 0)\n",
    "df_minority_1 = df[df['label_manual'] == 1]  # Kelas minoritas 1 (label = 1)\n",
    "df_minority_2 = df[df['label_manual'] == 2]  # Kelas minoritas 2 (label = 2)\n",
    "\n",
    "# Oversampling kelas minoritas\n",
    "df_minority_1_upsampled = resample(df_minority_1,\n",
    "                                   replace=True,\n",
    "                                   n_samples=df_majority.shape[0],\n",
    "                                   random_state=42)\n",
    "\n",
    "df_minority_2_upsampled = resample(df_minority_2,\n",
    "                                   replace=True,\n",
    "                                   n_samples=df_majority.shape[0],\n",
    "                                   random_state=42)\n",
    "\n",
    "\n",
    "df_upsampled = pd.concat([df_majority, df_minority_1_upsampled, df_minority_2_upsampled])\n",
    "\n",
    "\n",
    "print(\"Original dataset shape:\", y.value_counts())\n",
    "print(\"Resampled dataset shape:\", df_upsampled['label_manual'].value_counts())\n",
    "\n",
    "\n",
    "output_path = r'D:\\dataset\\resampled_data.csv'\n",
    "df_upsampled.to_csv(output_path, index=False)\n",
    "\n",
    "\n",
    "print(df_upsampled.head(10))\n"
   ]
  },
  {
   "cell_type": "code",
   "execution_count": 11,
   "id": "c301605a-59de-497b-abf9-ef8b4f161cf6",
   "metadata": {},
   "outputs": [
    {
     "name": "stdout",
     "output_type": "stream",
     "text": [
      "Index(['textDisplay', 'label_manual', 'cleaned_text', 'normalized_text'], dtype='object')\n",
      "Jumlah nilai null di kolom 'normalized_text': 0\n",
      "Jumlah baris dengan teks kosong di kolom 'normalized_text': 0\n",
      "Panjang tokenisasi:\n",
      "count    1545.0\n",
      "mean      128.0\n",
      "std         0.0\n",
      "min       128.0\n",
      "25%       128.0\n",
      "50%       128.0\n",
      "75%       128.0\n",
      "max       128.0\n",
      "Name: tokenized_length, dtype: float64\n",
      "                                      tokenized_text\n",
      "0  [tensor(3), tensor(3283), tensor(15125), tenso...\n",
      "1  [tensor(3), tensor(3887), tensor(8536), tensor...\n",
      "2  [tensor(3), tensor(2528), tensor(13292), tenso...\n",
      "3  [tensor(3), tensor(2280), tensor(1646), tensor...\n",
      "4  [tensor(3), tensor(4092), tensor(5236), tensor...\n",
      "5  [tensor(3), tensor(8647), tensor(10218), tenso...\n",
      "6  [tensor(3), tensor(6391), tensor(1497), tensor...\n",
      "7  [tensor(3), tensor(1485), tensor(2315), tensor...\n",
      "8  [tensor(3), tensor(2112), tensor(31810), tenso...\n",
      "9  [tensor(3), tensor(2468), tensor(14738), tenso...\n",
      "Hasil tokenisasi disimpan di: D:\\dataset\\dataset_tokenized_indobert.csv\n"
     ]
    }
   ],
   "source": [
    "import pandas as pd\n",
    "from transformers import AutoTokenizer, AutoModel\n",
    "\n",
    "tokenizer = AutoTokenizer.from_pretrained(\"indolem/indobert-base-uncased\")\n",
    "model = AutoModel.from_pretrained(\"indolem/indobert-base-uncased\")\n",
    "\n",
    "input_path = r'D:\\dataset\\resampled_data.csv'\n",
    "df = pd.read_csv(input_path)\n",
    "\n",
    "print(df.columns)\n",
    "\n",
    "print(f\"Jumlah nilai null di kolom 'normalized_text': {df['normalized_text'].isnull().sum()}\")\n",
    "print(f\"Jumlah baris dengan teks kosong di kolom 'normalized_text': {df['normalized_text'].apply(lambda x: len(str(x).strip()) == 0).sum()}\")\n",
    "\n",
    "df = df[df['normalized_text'].notnull() & (df['normalized_text'].apply(lambda x: len(str(x).strip()) > 0))]\n",
    "\n",
    "# Tokenisasi, padding, dan truncation\n",
    "def tokenize_text(text):\n",
    "    if isinstance(text, str) and text.strip() != \"\":\n",
    "        encoding = tokenizer.encode_plus(\n",
    "            text,\n",
    "            add_special_tokens=True,\n",
    "            max_length=128,  \n",
    "            padding='max_length',\n",
    "            truncation=True,\n",
    "            return_tensors='pt'\n",
    "        )\n",
    "        input_ids = encoding['input_ids'].flatten()\n",
    "        return input_ids\n",
    "    else:\n",
    "        return []\n",
    "\n",
    "\n",
    "df['tokenized_text'] = df['normalized_text'].apply(lambda x: tokenize_text(x))\n",
    "\n",
    "\n",
    "df['tokenized_length'] = df['tokenized_text'].apply(len)\n",
    "print(f\"Panjang tokenisasi:\\n{df['tokenized_length'].describe()}\")\n",
    "\n",
    "\n",
    "print(df[['tokenized_text']].head(10))\n",
    "\n",
    "\n",
    "output_path = r'D:\\dataset\\dataset_tokenized_indobert.csv'\n",
    "df.to_csv(output_path, index=False)\n",
    "\n",
    "print(f\"Hasil tokenisasi disimpan di: {output_path}\")"
   ]
  },
  {
   "cell_type": "code",
   "execution_count": 12,
   "id": "e9a3711c-1478-47bb-9d6a-b88ed7780fee",
   "metadata": {},
   "outputs": [],
   "source": [
    "def create_attention_mask(input_ids):\n",
    "    attention_mask = [1 if token_id != tokenizer.pad_token_id else 0 for token_id in input_ids]\n",
    "    return attention_mask\n",
    "\n",
    "df['attention_mask'] = df['tokenized_text'].apply(lambda x: create_attention_mask(x))"
   ]
  },
  {
   "cell_type": "code",
   "execution_count": 13,
   "id": "ea6db473-0846-4e89-9392-60afe90324fc",
   "metadata": {},
   "outputs": [],
   "source": [
    "import torch\n",
    "\n",
    "def convert_to_tensor(input_ids, attention_mask):\n",
    "    # Jika input_ids atau attention_mask sudah berupa tensor, gunakan detach().clone()\n",
    "    input_ids_tensor = input_ids.detach().clone() if isinstance(input_ids, torch.Tensor) else torch.tensor(input_ids)\n",
    "    attention_mask_tensor = attention_mask.detach().clone() if isinstance(attention_mask, torch.Tensor) else torch.tensor(attention_mask)\n",
    "    return input_ids_tensor, attention_mask_tensor\n",
    "\n",
    "df['input_ids_tensor'], df['attention_mask_tensor'] = zip(*df.apply(lambda row: convert_to_tensor(row['tokenized_text'], row['attention_mask']), axis=1))"
   ]
  },
  {
   "cell_type": "code",
   "execution_count": 14,
   "id": "2c4cf548-8fb4-4b2c-a65e-3fe9608e1c39",
   "metadata": {},
   "outputs": [
    {
     "name": "stdout",
     "output_type": "stream",
     "text": [
      "Jumlah data untuk training set: 1081\n",
      "Jumlah data untuk validation set: 310\n",
      "Jumlah data untuk test set: 154\n"
     ]
    }
   ],
   "source": [
    "from sklearn.model_selection import train_test_split\n",
    "\n",
    "\n",
    "train_df, temp_df = train_test_split(df, test_size=0.3, random_state=42)\n",
    "\n",
    "\n",
    "val_df, test_df = train_test_split(temp_df, test_size=0.33, random_state=42)\n",
    "\n",
    "print(f\"Jumlah data untuk training set: {len(train_df)}\")\n",
    "print(f\"Jumlah data untuk validation set: {len(val_df)}\")\n",
    "print(f\"Jumlah data untuk test set: {len(test_df)}\")\n"
   ]
  },
  {
   "cell_type": "code",
   "execution_count": 15,
   "id": "435576c8-5f5d-4de1-8a38-b9fc53df2d75",
   "metadata": {},
   "outputs": [],
   "source": [
    "# Dataset class\n",
    "class SentimentDataset(Dataset):\n",
    "    def __init__(self, input_ids, attention_mask, labels):\n",
    "        self.input_ids = input_ids\n",
    "        self.attention_mask = attention_mask\n",
    "        self.labels = labels\n",
    "\n",
    "    def __len__(self):\n",
    "        return len(self.input_ids)\n",
    "\n",
    "    def __getitem__(self, idx):\n",
    "        return {\n",
    "            'input_ids': self.input_ids[idx],\n",
    "            'attention_mask': self.attention_mask[idx],\n",
    "            'labels': self.labels[idx]\n",
    "        }\n",
    "\n",
    "\n",
    "train_dataset = SentimentDataset(\n",
    "    torch.stack(train_df['input_ids_tensor'].tolist()),\n",
    "    torch.stack(train_df['attention_mask_tensor'].tolist()),\n",
    "    torch.tensor(train_df['label_manual'].values)\n",
    ")\n",
    "\n",
    "val_dataset = SentimentDataset(\n",
    "    torch.stack(val_df['input_ids_tensor'].tolist()),\n",
    "    torch.stack(val_df['attention_mask_tensor'].tolist()),\n",
    "    torch.tensor(val_df['label_manual'].values)\n",
    ")\n",
    "\n",
    "test_dataset = SentimentDataset(\n",
    "    torch.stack(test_df['input_ids_tensor'].tolist()),\n",
    "    torch.stack(test_df['attention_mask_tensor'].tolist()),\n",
    "    torch.tensor(test_df['label_manual'].values)\n",
    ")"
   ]
  },
  {
   "cell_type": "code",
   "execution_count": 16,
   "id": "a24292bc-be42-4d9b-adc8-5f92f1618bac",
   "metadata": {},
   "outputs": [],
   "source": [
    "class CustomBertClassifier(torch.nn.Module):\n",
    "    def __init__(self, base_model, num_labels=3, hidden_layer=True):  \n",
    "        super().__init__()\n",
    "        self.bert = base_model\n",
    "        self.num_labels = num_labels\n",
    "        if hidden_layer:  \n",
    "            self.hidden = torch.nn.Linear(self.bert.config.hidden_size, 128)\n",
    "            self.classifier = torch.nn.Linear(128, num_labels)\n",
    "        else:\n",
    "            self.classifier = torch.nn.Linear(self.bert.config.hidden_size, num_labels)\n",
    "\n",
    "    def forward(self, input_ids, attention_mask, labels=None):\n",
    "        outputs = self.bert(input_ids, attention_mask=attention_mask)\n",
    "        # Mengambil hidden state dari token pertama (CLS token)\n",
    "        hidden_state = outputs.last_hidden_state[:, 0, :]\n",
    "        \n",
    "        if hasattr(self, 'hidden'):\n",
    "            # Jika menggunakan hidden layer, masukkan ke layer tersembunyi\n",
    "            hidden_state = self.hidden(hidden_state)\n",
    "        \n",
    "        logits = self.classifier(hidden_state)\n",
    "\n",
    "        # Jika labels disediakan, hitung loss\n",
    "        if labels is not None:\n",
    "            loss_fct = nn.CrossEntropyLoss()\n",
    "            loss = loss_fct(logits.view(-1, self.num_labels), labels.view(-1))\n",
    "            return loss, logits  \n",
    "\n",
    "        return logits  \n",
    "\n",
    "# Membekukan seluruh lapisan BERT (backbone)\n",
    "base_model = AutoModel.from_pretrained(\"indolem/indobert-base-uncased\")\n",
    "\n",
    "# Model dengan lapisan tersembunyi\n",
    "model_with_hidden = CustomBertClassifier(base_model=base_model, hidden_layer=True)\n",
    "\n",
    "# Model tanpa lapisan tersembunyi\n",
    "model_without_hidden = CustomBertClassifier(base_model=base_model, hidden_layer=False)"
   ]
  },
  {
   "cell_type": "code",
   "execution_count": 17,
   "id": "487f507c-bd44-4cb2-8122-df8d3565cc49",
   "metadata": {},
   "outputs": [],
   "source": [
    "# Membekukan seluruh lapisan BERT (backbone)\n",
    "model = CustomBertClassifier(base_model=AutoModel.from_pretrained(\"indolem/indobert-base-uncased\"), hidden_layer=True)"
   ]
  },
  {
   "cell_type": "code",
   "execution_count": 18,
   "id": "56f47b95-ff0c-4768-a635-3bf07c3d9fa0",
   "metadata": {},
   "outputs": [],
   "source": [
    "for param in model.bert.parameters():\n",
    "    param.requires_grad = False\n",
    "\n",
    "# Hanya komponen klasifikasi yang akan dilatih (self.classifier atau self.hidden)\n",
    "for param in model.classifier.parameters():\n",
    "    param.requires_grad = True\n",
    "\n",
    "if hasattr(model, 'hidden'):\n",
    "    for param in model.hidden.parameters():\n",
    "        param.requires_grad = True\n",
    "else:\n",
    "    pass"
   ]
  },
  {
   "cell_type": "code",
   "execution_count": 19,
   "id": "5e4128e7-9f46-4266-9954-07d528fa574e",
   "metadata": {},
   "outputs": [],
   "source": [
    "def log_metrics_to_csv(metrics, epoch, filename='metrics_log.csv'):\n",
    "    file_exists = False\n",
    "    try:\n",
    "        with open(filename, 'r') as file:\n",
    "            file_exists = True\n",
    "    except FileNotFoundError:\n",
    "        pass\n",
    "\n",
    "    with open(filename, mode='a', newline='') as file:\n",
    "        writer = csv.writer(file)\n",
    "        if not file_exists:\n",
    "            writer.writerow(['epoch', 'accuracy', 'precision', 'recall', 'f1'])\n",
    "\n",
    "        writer.writerow([epoch, metrics['accuracy'], metrics['precision'], metrics['recall'], metrics['f1']])"
   ]
  },
  {
   "cell_type": "code",
   "execution_count": 20,
   "id": "6db78c27-74f6-4822-924f-a3eb427bed2b",
   "metadata": {},
   "outputs": [
    {
     "name": "stdout",
     "output_type": "stream",
     "text": [
      "label_manual\n",
      "0    515\n",
      "1    515\n",
      "2    515\n",
      "Name: count, dtype: int64\n"
     ]
    }
   ],
   "source": [
    "# Menghitung distribusi label_manual\n",
    "label_counts = df['label_manual'].value_counts()\n",
    "print(label_counts)"
   ]
  },
  {
   "cell_type": "code",
   "execution_count": 21,
   "id": "64987586-b8e4-46a1-8500-92143f81d96c",
   "metadata": {},
   "outputs": [],
   "source": [
    "from sklearn.metrics import accuracy_score, precision_score, recall_score, f1_score\n",
    "import numpy as np\n",
    "\n",
    "def compute_metrics(p):\n",
    "    predictions, labels = p\n",
    "    preds = np.argmax(predictions, axis=1)\n",
    "    metrics = {\n",
    "        'accuracy': accuracy_score(labels, preds),  # Akurasi\n",
    "        'precision': precision_score(labels, preds, average='weighted'),  # Precision\n",
    "        'recall': recall_score(labels, preds, average='weighted'),  # Recall\n",
    "        'f1': f1_score(labels, preds, average='weighted')  # F1 score\n",
    "    }\n",
    "    return metrics\n",
    "\n",
    "def evaluate_validation_metrics(trainer):\n",
    "    eval_results = trainer.evaluate()\n",
    "    eval_metrics = {\n",
    "        'validation_accuracy': eval_results.get(\"eval_accuracy\", None),\n",
    "        'validation_precision': eval_results.get(\"eval_precision\", None),\n",
    "        'validation_recall': eval_results.get(\"eval_recall\", None),\n",
    "        'validation_f1': eval_results.get(\"eval_f1\", None),\n",
    "    }\n",
    "    return eval_metrics"
   ]
  },
  {
   "cell_type": "code",
   "execution_count": 22,
   "id": "cfe1a85e-ffdb-4425-897e-f3f354c9e5aa",
   "metadata": {},
   "outputs": [],
   "source": [
    "import time\n",
    "import pandas as pd\n",
    "import numpy as np\n",
    "import torch.nn as nn\n",
    "from sklearn.metrics import f1_score\n",
    "from transformers import AutoModelForSequenceClassification, Trainer, TrainingArguments, TrainerCallback\n",
    "from torch.optim import AdamW\n",
    "\n",
    "class TimingCallback(TrainerCallback):\n",
    "    def __init__(self, trainer):\n",
    "        self.trainer = trainer\n",
    "\n",
    "    def on_epoch_begin(self, args, state, control, **kwargs):\n",
    "        self.start_time = time.time()\n",
    "\n",
    "    def on_epoch_end(self, args, state, control, **kwargs):\n",
    "        training_time = time.time() - self.start_time\n",
    "\n",
    "        # Waktu validasi\n",
    "        val_start_time = time.time()\n",
    "        eval_results = self.trainer.evaluate()\n",
    "        val_end_time = time.time()\n",
    "        val_time = val_end_time - val_start_time\n",
    "\n",
    "        training_loss = None\n",
    "        if len(self.trainer.state.log_history) > 0 and \"loss\" in self.trainer.state.log_history[-1]:\n",
    "            training_loss = self.trainer.state.log_history[-1][\"loss\"]\n",
    "\n",
    "        \n",
    "        train_predictions = self.trainer.predict(train_dataset).predictions\n",
    "        train_labels = self.trainer.predict(train_dataset).label_ids\n",
    "        train_preds = np.argmax(train_predictions, axis=1)\n",
    "        train_f1 = f1_score(train_labels, train_preds, average='weighted')\n",
    "\n",
    "        epoch_results = {\n",
    "            \"Epoch\": state.epoch,\n",
    "            \"Training Loss\": training_loss,\n",
    "            \"Validation Loss\": eval_results[\"eval_loss\"] if \"eval_loss\" in eval_results else None,\n",
    "            \"Training F1\": train_f1,\n",
    "            \"Validation Accuracy\": eval_results[\"eval_accuracy\"] if \"eval_accuracy\" in eval_results else None,\n",
    "            \"Validation Precision\": eval_results[\"eval_precision\"] if \"eval_precision\" in eval_results else None,\n",
    "            \"Validation Recall\": eval_results[\"eval_recall\"] if \"eval_recall\" in eval_results else None,\n",
    "            \"Validation F1\": eval_results[\"eval_f1\"] if \"eval_f1\" in eval_results else None,\n",
    "            \"Training Time (s)\": training_time,\n",
    "            \"Validation Time (s)\": val_time\n",
    "        }\n",
    "        epoch_results_list.append(epoch_results)\n",
    "\n",
    "# Model dengan lapisan tersembunyi\n",
    "model_with_hidden = CustomBertClassifier(base_model=base_model, hidden_layer=True)\n",
    "\n",
    "# Model tanpa lapisan tersembunyi\n",
    "model_without_hidden = CustomBertClassifier(base_model=base_model, hidden_layer=False)\n",
    "\n",
    "learning_rates = [5e-5]\n",
    "epochs = [50]\n",
    "\n",
    "epoch_results_list = []\n",
    "\n",
    "# Waktu mulai pelatihan\n",
    "start_time = time.time()  \n",
    "\n",
    "# Pengaturan untuk training arguments\n",
    "training_args = TrainingArguments(\n",
    "    output_dir='./results',  \n",
    "    num_train_epochs=epochs[0], \n",
    "    per_device_train_batch_size=16,\n",
    "    per_device_eval_batch_size=32,\n",
    "    warmup_steps=500,\n",
    "    learning_rate=learning_rates[0],\n",
    "    logging_dir='./logs',\n",
    "    logging_steps=1,\n",
    "    eval_strategy=\"epoch\",\n",
    "    save_strategy=\"epoch\",\n",
    "    load_best_model_at_end=True,\n",
    "    lr_scheduler_type=\"linear\",\n",
    ")\n",
    "\n",
    "# Optimizer untuk masing-masing model\n",
    "optimizer_with_hidden = AdamW(model_with_hidden.parameters(), lr=learning_rates[0])\n",
    "optimizer_without_hidden = AdamW(model_without_hidden.parameters(), lr=learning_rates[0])\n",
    "\n",
    "timing_callback = TimingCallback(trainer=None)\n",
    "\n",
    "# Trainer untuk model dengan lapisan tersembunyi\n",
    "trainer_with_hidden = Trainer(\n",
    "    model=model_with_hidden,\n",
    "    args=training_args,\n",
    "    train_dataset=train_dataset,\n",
    "    eval_dataset=val_dataset,\n",
    "    compute_metrics=compute_metrics,\n",
    "    optimizers=(optimizer_with_hidden, None),\n",
    "    callbacks=[timing_callback]\n",
    ")\n",
    "timing_callback.trainer = trainer_with_hidden \n",
    "\n",
    "# Trainer untuk model tanpa lapisan tersembunyi\n",
    "trainer_without_hidden = Trainer(\n",
    "    model=model_without_hidden,\n",
    "    args=training_args,\n",
    "    train_dataset=train_dataset,\n",
    "    eval_dataset=val_dataset,\n",
    "    compute_metrics=compute_metrics,\n",
    "    optimizers=(optimizer_without_hidden, None),\n",
    "    callbacks=[timing_callback]\n",
    ")\n",
    "timing_callback.trainer = trainer_without_hidden"
   ]
  },
  {
   "cell_type": "code",
   "execution_count": 23,
   "id": "d8847599-f4b0-462e-9ed8-d3dd8af8c741",
   "metadata": {},
   "outputs": [
    {
     "name": "stdout",
     "output_type": "stream",
     "text": [
      "Training with learning rate: 5e-05, epochs: 50 with Hidden Layer\n"
     ]
    },
    {
     "data": {
      "text/html": [
       "\n",
       "    <div>\n",
       "      \n",
       "      <progress value='3400' max='3400' style='width:300px; height:20px; vertical-align: middle;'></progress>\n",
       "      [3400/3400 1:12:00, Epoch 50/50]\n",
       "    </div>\n",
       "    <table border=\"1\" class=\"dataframe\">\n",
       "  <thead>\n",
       " <tr style=\"text-align: left;\">\n",
       "      <th>Epoch</th>\n",
       "      <th>Training Loss</th>\n",
       "      <th>Validation Loss</th>\n",
       "      <th>Accuracy</th>\n",
       "      <th>Precision</th>\n",
       "      <th>Recall</th>\n",
       "      <th>F1</th>\n",
       "    </tr>\n",
       "  </thead>\n",
       "  <tbody>\n",
       "    <tr>\n",
       "      <td>1</td>\n",
       "      <td>1.106600</td>\n",
       "      <td>1.026529</td>\n",
       "      <td>0.477419</td>\n",
       "      <td>0.480724</td>\n",
       "      <td>0.477419</td>\n",
       "      <td>0.422275</td>\n",
       "    </tr>\n",
       "    <tr>\n",
       "      <td>2</td>\n",
       "      <td>0.820700</td>\n",
       "      <td>0.892300</td>\n",
       "      <td>0.612903</td>\n",
       "      <td>0.602225</td>\n",
       "      <td>0.612903</td>\n",
       "      <td>0.597502</td>\n",
       "    </tr>\n",
       "    <tr>\n",
       "      <td>3</td>\n",
       "      <td>1.044100</td>\n",
       "      <td>0.774574</td>\n",
       "      <td>0.641935</td>\n",
       "      <td>0.671318</td>\n",
       "      <td>0.641935</td>\n",
       "      <td>0.614046</td>\n",
       "    </tr>\n",
       "    <tr>\n",
       "      <td>4</td>\n",
       "      <td>0.442400</td>\n",
       "      <td>0.504703</td>\n",
       "      <td>0.770968</td>\n",
       "      <td>0.780789</td>\n",
       "      <td>0.770968</td>\n",
       "      <td>0.760594</td>\n",
       "    </tr>\n",
       "    <tr>\n",
       "      <td>5</td>\n",
       "      <td>0.588500</td>\n",
       "      <td>0.482400</td>\n",
       "      <td>0.809677</td>\n",
       "      <td>0.827245</td>\n",
       "      <td>0.809677</td>\n",
       "      <td>0.800885</td>\n",
       "    </tr>\n",
       "    <tr>\n",
       "      <td>6</td>\n",
       "      <td>0.351300</td>\n",
       "      <td>0.350296</td>\n",
       "      <td>0.832258</td>\n",
       "      <td>0.829311</td>\n",
       "      <td>0.832258</td>\n",
       "      <td>0.830376</td>\n",
       "    </tr>\n",
       "    <tr>\n",
       "      <td>7</td>\n",
       "      <td>0.509500</td>\n",
       "      <td>0.491025</td>\n",
       "      <td>0.880645</td>\n",
       "      <td>0.891248</td>\n",
       "      <td>0.880645</td>\n",
       "      <td>0.878855</td>\n",
       "    </tr>\n",
       "    <tr>\n",
       "      <td>8</td>\n",
       "      <td>0.203200</td>\n",
       "      <td>0.922283</td>\n",
       "      <td>0.800000</td>\n",
       "      <td>0.802283</td>\n",
       "      <td>0.800000</td>\n",
       "      <td>0.792779</td>\n",
       "    </tr>\n",
       "    <tr>\n",
       "      <td>9</td>\n",
       "      <td>0.005000</td>\n",
       "      <td>0.961722</td>\n",
       "      <td>0.835484</td>\n",
       "      <td>0.835000</td>\n",
       "      <td>0.835484</td>\n",
       "      <td>0.830875</td>\n",
       "    </tr>\n",
       "    <tr>\n",
       "      <td>10</td>\n",
       "      <td>0.000300</td>\n",
       "      <td>0.884948</td>\n",
       "      <td>0.864516</td>\n",
       "      <td>0.864095</td>\n",
       "      <td>0.864516</td>\n",
       "      <td>0.862689</td>\n",
       "    </tr>\n",
       "    <tr>\n",
       "      <td>11</td>\n",
       "      <td>0.000500</td>\n",
       "      <td>1.614396</td>\n",
       "      <td>0.770968</td>\n",
       "      <td>0.795284</td>\n",
       "      <td>0.770968</td>\n",
       "      <td>0.752821</td>\n",
       "    </tr>\n",
       "    <tr>\n",
       "      <td>12</td>\n",
       "      <td>0.000200</td>\n",
       "      <td>0.717572</td>\n",
       "      <td>0.909677</td>\n",
       "      <td>0.913072</td>\n",
       "      <td>0.909677</td>\n",
       "      <td>0.909305</td>\n",
       "    </tr>\n",
       "    <tr>\n",
       "      <td>13</td>\n",
       "      <td>0.429600</td>\n",
       "      <td>0.816095</td>\n",
       "      <td>0.880645</td>\n",
       "      <td>0.879429</td>\n",
       "      <td>0.880645</td>\n",
       "      <td>0.879856</td>\n",
       "    </tr>\n",
       "    <tr>\n",
       "      <td>14</td>\n",
       "      <td>0.000100</td>\n",
       "      <td>0.838622</td>\n",
       "      <td>0.887097</td>\n",
       "      <td>0.885730</td>\n",
       "      <td>0.887097</td>\n",
       "      <td>0.886318</td>\n",
       "    </tr>\n",
       "    <tr>\n",
       "      <td>15</td>\n",
       "      <td>0.004300</td>\n",
       "      <td>1.017721</td>\n",
       "      <td>0.854839</td>\n",
       "      <td>0.853049</td>\n",
       "      <td>0.854839</td>\n",
       "      <td>0.853298</td>\n",
       "    </tr>\n",
       "    <tr>\n",
       "      <td>16</td>\n",
       "      <td>0.000200</td>\n",
       "      <td>1.005844</td>\n",
       "      <td>0.867742</td>\n",
       "      <td>0.868734</td>\n",
       "      <td>0.867742</td>\n",
       "      <td>0.867596</td>\n",
       "    </tr>\n",
       "    <tr>\n",
       "      <td>17</td>\n",
       "      <td>0.000100</td>\n",
       "      <td>1.339010</td>\n",
       "      <td>0.822581</td>\n",
       "      <td>0.822307</td>\n",
       "      <td>0.822581</td>\n",
       "      <td>0.818658</td>\n",
       "    </tr>\n",
       "    <tr>\n",
       "      <td>18</td>\n",
       "      <td>0.000100</td>\n",
       "      <td>0.955521</td>\n",
       "      <td>0.890323</td>\n",
       "      <td>0.890771</td>\n",
       "      <td>0.890323</td>\n",
       "      <td>0.889432</td>\n",
       "    </tr>\n",
       "    <tr>\n",
       "      <td>19</td>\n",
       "      <td>0.000100</td>\n",
       "      <td>1.442623</td>\n",
       "      <td>0.809677</td>\n",
       "      <td>0.811972</td>\n",
       "      <td>0.809677</td>\n",
       "      <td>0.804076</td>\n",
       "    </tr>\n",
       "    <tr>\n",
       "      <td>20</td>\n",
       "      <td>0.000100</td>\n",
       "      <td>1.035187</td>\n",
       "      <td>0.883871</td>\n",
       "      <td>0.883385</td>\n",
       "      <td>0.883871</td>\n",
       "      <td>0.883102</td>\n",
       "    </tr>\n",
       "    <tr>\n",
       "      <td>21</td>\n",
       "      <td>0.000100</td>\n",
       "      <td>1.037887</td>\n",
       "      <td>0.867742</td>\n",
       "      <td>0.867203</td>\n",
       "      <td>0.867742</td>\n",
       "      <td>0.867379</td>\n",
       "    </tr>\n",
       "    <tr>\n",
       "      <td>22</td>\n",
       "      <td>0.000000</td>\n",
       "      <td>1.217999</td>\n",
       "      <td>0.851613</td>\n",
       "      <td>0.850582</td>\n",
       "      <td>0.851613</td>\n",
       "      <td>0.850731</td>\n",
       "    </tr>\n",
       "    <tr>\n",
       "      <td>23</td>\n",
       "      <td>0.000100</td>\n",
       "      <td>1.056023</td>\n",
       "      <td>0.880645</td>\n",
       "      <td>0.880771</td>\n",
       "      <td>0.880645</td>\n",
       "      <td>0.880284</td>\n",
       "    </tr>\n",
       "    <tr>\n",
       "      <td>24</td>\n",
       "      <td>0.000000</td>\n",
       "      <td>1.160987</td>\n",
       "      <td>0.877419</td>\n",
       "      <td>0.876320</td>\n",
       "      <td>0.877419</td>\n",
       "      <td>0.876815</td>\n",
       "    </tr>\n",
       "    <tr>\n",
       "      <td>25</td>\n",
       "      <td>0.000100</td>\n",
       "      <td>1.052507</td>\n",
       "      <td>0.867742</td>\n",
       "      <td>0.866549</td>\n",
       "      <td>0.867742</td>\n",
       "      <td>0.867105</td>\n",
       "    </tr>\n",
       "    <tr>\n",
       "      <td>26</td>\n",
       "      <td>0.000100</td>\n",
       "      <td>1.197291</td>\n",
       "      <td>0.858065</td>\n",
       "      <td>0.857116</td>\n",
       "      <td>0.858065</td>\n",
       "      <td>0.857220</td>\n",
       "    </tr>\n",
       "    <tr>\n",
       "      <td>27</td>\n",
       "      <td>0.000200</td>\n",
       "      <td>1.428047</td>\n",
       "      <td>0.838710</td>\n",
       "      <td>0.840732</td>\n",
       "      <td>0.838710</td>\n",
       "      <td>0.836780</td>\n",
       "    </tr>\n",
       "    <tr>\n",
       "      <td>28</td>\n",
       "      <td>0.000000</td>\n",
       "      <td>1.304225</td>\n",
       "      <td>0.851613</td>\n",
       "      <td>0.848438</td>\n",
       "      <td>0.851613</td>\n",
       "      <td>0.849266</td>\n",
       "    </tr>\n",
       "    <tr>\n",
       "      <td>29</td>\n",
       "      <td>0.000000</td>\n",
       "      <td>1.281321</td>\n",
       "      <td>0.854839</td>\n",
       "      <td>0.853723</td>\n",
       "      <td>0.854839</td>\n",
       "      <td>0.853440</td>\n",
       "    </tr>\n",
       "    <tr>\n",
       "      <td>30</td>\n",
       "      <td>0.000000</td>\n",
       "      <td>1.294725</td>\n",
       "      <td>0.861290</td>\n",
       "      <td>0.859880</td>\n",
       "      <td>0.861290</td>\n",
       "      <td>0.860087</td>\n",
       "    </tr>\n",
       "    <tr>\n",
       "      <td>31</td>\n",
       "      <td>0.000000</td>\n",
       "      <td>1.305088</td>\n",
       "      <td>0.861290</td>\n",
       "      <td>0.859880</td>\n",
       "      <td>0.861290</td>\n",
       "      <td>0.860087</td>\n",
       "    </tr>\n",
       "    <tr>\n",
       "      <td>32</td>\n",
       "      <td>0.000000</td>\n",
       "      <td>1.160103</td>\n",
       "      <td>0.867742</td>\n",
       "      <td>0.867105</td>\n",
       "      <td>0.867742</td>\n",
       "      <td>0.867410</td>\n",
       "    </tr>\n",
       "    <tr>\n",
       "      <td>33</td>\n",
       "      <td>0.000000</td>\n",
       "      <td>1.307787</td>\n",
       "      <td>0.864516</td>\n",
       "      <td>0.863009</td>\n",
       "      <td>0.864516</td>\n",
       "      <td>0.863506</td>\n",
       "    </tr>\n",
       "    <tr>\n",
       "      <td>34</td>\n",
       "      <td>0.000000</td>\n",
       "      <td>1.314078</td>\n",
       "      <td>0.851613</td>\n",
       "      <td>0.852211</td>\n",
       "      <td>0.851613</td>\n",
       "      <td>0.850281</td>\n",
       "    </tr>\n",
       "    <tr>\n",
       "      <td>35</td>\n",
       "      <td>0.000000</td>\n",
       "      <td>1.114324</td>\n",
       "      <td>0.880645</td>\n",
       "      <td>0.879586</td>\n",
       "      <td>0.880645</td>\n",
       "      <td>0.880074</td>\n",
       "    </tr>\n",
       "    <tr>\n",
       "      <td>36</td>\n",
       "      <td>0.000000</td>\n",
       "      <td>1.403163</td>\n",
       "      <td>0.832258</td>\n",
       "      <td>0.836301</td>\n",
       "      <td>0.832258</td>\n",
       "      <td>0.829602</td>\n",
       "    </tr>\n",
       "    <tr>\n",
       "      <td>37</td>\n",
       "      <td>0.000000</td>\n",
       "      <td>1.164440</td>\n",
       "      <td>0.874194</td>\n",
       "      <td>0.873096</td>\n",
       "      <td>0.874194</td>\n",
       "      <td>0.873550</td>\n",
       "    </tr>\n",
       "    <tr>\n",
       "      <td>38</td>\n",
       "      <td>0.000000</td>\n",
       "      <td>1.293465</td>\n",
       "      <td>0.861290</td>\n",
       "      <td>0.861722</td>\n",
       "      <td>0.861290</td>\n",
       "      <td>0.860126</td>\n",
       "    </tr>\n",
       "    <tr>\n",
       "      <td>39</td>\n",
       "      <td>0.000000</td>\n",
       "      <td>1.215874</td>\n",
       "      <td>0.861290</td>\n",
       "      <td>0.860571</td>\n",
       "      <td>0.861290</td>\n",
       "      <td>0.860411</td>\n",
       "    </tr>\n",
       "    <tr>\n",
       "      <td>40</td>\n",
       "      <td>0.000200</td>\n",
       "      <td>1.679528</td>\n",
       "      <td>0.806452</td>\n",
       "      <td>0.816037</td>\n",
       "      <td>0.806452</td>\n",
       "      <td>0.801956</td>\n",
       "    </tr>\n",
       "    <tr>\n",
       "      <td>41</td>\n",
       "      <td>0.000000</td>\n",
       "      <td>1.300061</td>\n",
       "      <td>0.861290</td>\n",
       "      <td>0.861066</td>\n",
       "      <td>0.861290</td>\n",
       "      <td>0.860283</td>\n",
       "    </tr>\n",
       "    <tr>\n",
       "      <td>42</td>\n",
       "      <td>0.000000</td>\n",
       "      <td>1.106762</td>\n",
       "      <td>0.880645</td>\n",
       "      <td>0.879586</td>\n",
       "      <td>0.880645</td>\n",
       "      <td>0.880074</td>\n",
       "    </tr>\n",
       "    <tr>\n",
       "      <td>43</td>\n",
       "      <td>0.000000</td>\n",
       "      <td>1.166247</td>\n",
       "      <td>0.874194</td>\n",
       "      <td>0.873096</td>\n",
       "      <td>0.874194</td>\n",
       "      <td>0.873550</td>\n",
       "    </tr>\n",
       "    <tr>\n",
       "      <td>44</td>\n",
       "      <td>0.000000</td>\n",
       "      <td>1.197702</td>\n",
       "      <td>0.870968</td>\n",
       "      <td>0.869911</td>\n",
       "      <td>0.870968</td>\n",
       "      <td>0.870277</td>\n",
       "    </tr>\n",
       "    <tr>\n",
       "      <td>45</td>\n",
       "      <td>0.000000</td>\n",
       "      <td>1.212230</td>\n",
       "      <td>0.867742</td>\n",
       "      <td>0.866763</td>\n",
       "      <td>0.867742</td>\n",
       "      <td>0.866997</td>\n",
       "    </tr>\n",
       "    <tr>\n",
       "      <td>46</td>\n",
       "      <td>0.000000</td>\n",
       "      <td>1.222860</td>\n",
       "      <td>0.867742</td>\n",
       "      <td>0.866763</td>\n",
       "      <td>0.867742</td>\n",
       "      <td>0.866997</td>\n",
       "    </tr>\n",
       "    <tr>\n",
       "      <td>47</td>\n",
       "      <td>0.000000</td>\n",
       "      <td>1.225419</td>\n",
       "      <td>0.867742</td>\n",
       "      <td>0.866763</td>\n",
       "      <td>0.867742</td>\n",
       "      <td>0.866997</td>\n",
       "    </tr>\n",
       "    <tr>\n",
       "      <td>48</td>\n",
       "      <td>0.000000</td>\n",
       "      <td>1.231035</td>\n",
       "      <td>0.867742</td>\n",
       "      <td>0.866763</td>\n",
       "      <td>0.867742</td>\n",
       "      <td>0.866997</td>\n",
       "    </tr>\n",
       "    <tr>\n",
       "      <td>49</td>\n",
       "      <td>0.000000</td>\n",
       "      <td>1.235020</td>\n",
       "      <td>0.867742</td>\n",
       "      <td>0.866763</td>\n",
       "      <td>0.867742</td>\n",
       "      <td>0.866997</td>\n",
       "    </tr>\n",
       "    <tr>\n",
       "      <td>50</td>\n",
       "      <td>0.000000</td>\n",
       "      <td>1.235566</td>\n",
       "      <td>0.867742</td>\n",
       "      <td>0.866763</td>\n",
       "      <td>0.867742</td>\n",
       "      <td>0.866997</td>\n",
       "    </tr>\n",
       "  </tbody>\n",
       "</table><p>"
      ],
      "text/plain": [
       "<IPython.core.display.HTML object>"
      ]
     },
     "metadata": {},
     "output_type": "display_data"
    },
    {
     "data": {
      "text/html": [],
      "text/plain": [
       "<IPython.core.display.HTML object>"
      ]
     },
     "metadata": {},
     "output_type": "display_data"
    },
    {
     "data": {
      "text/html": [],
      "text/plain": [
       "<IPython.core.display.HTML object>"
      ]
     },
     "metadata": {},
     "output_type": "display_data"
    },
    {
     "data": {
      "text/html": [],
      "text/plain": [
       "<IPython.core.display.HTML object>"
      ]
     },
     "metadata": {},
     "output_type": "display_data"
    },
    {
     "data": {
      "text/html": [],
      "text/plain": [
       "<IPython.core.display.HTML object>"
      ]
     },
     "metadata": {},
     "output_type": "display_data"
    },
    {
     "data": {
      "text/html": [],
      "text/plain": [
       "<IPython.core.display.HTML object>"
      ]
     },
     "metadata": {},
     "output_type": "display_data"
    },
    {
     "data": {
      "text/html": [],
      "text/plain": [
       "<IPython.core.display.HTML object>"
      ]
     },
     "metadata": {},
     "output_type": "display_data"
    },
    {
     "data": {
      "text/html": [],
      "text/plain": [
       "<IPython.core.display.HTML object>"
      ]
     },
     "metadata": {},
     "output_type": "display_data"
    },
    {
     "data": {
      "text/html": [],
      "text/plain": [
       "<IPython.core.display.HTML object>"
      ]
     },
     "metadata": {},
     "output_type": "display_data"
    },
    {
     "data": {
      "text/html": [],
      "text/plain": [
       "<IPython.core.display.HTML object>"
      ]
     },
     "metadata": {},
     "output_type": "display_data"
    },
    {
     "data": {
      "text/html": [],
      "text/plain": [
       "<IPython.core.display.HTML object>"
      ]
     },
     "metadata": {},
     "output_type": "display_data"
    },
    {
     "data": {
      "text/html": [],
      "text/plain": [
       "<IPython.core.display.HTML object>"
      ]
     },
     "metadata": {},
     "output_type": "display_data"
    },
    {
     "data": {
      "text/html": [],
      "text/plain": [
       "<IPython.core.display.HTML object>"
      ]
     },
     "metadata": {},
     "output_type": "display_data"
    },
    {
     "data": {
      "text/html": [],
      "text/plain": [
       "<IPython.core.display.HTML object>"
      ]
     },
     "metadata": {},
     "output_type": "display_data"
    },
    {
     "data": {
      "text/html": [],
      "text/plain": [
       "<IPython.core.display.HTML object>"
      ]
     },
     "metadata": {},
     "output_type": "display_data"
    },
    {
     "data": {
      "text/html": [],
      "text/plain": [
       "<IPython.core.display.HTML object>"
      ]
     },
     "metadata": {},
     "output_type": "display_data"
    },
    {
     "data": {
      "text/html": [],
      "text/plain": [
       "<IPython.core.display.HTML object>"
      ]
     },
     "metadata": {},
     "output_type": "display_data"
    },
    {
     "data": {
      "text/html": [],
      "text/plain": [
       "<IPython.core.display.HTML object>"
      ]
     },
     "metadata": {},
     "output_type": "display_data"
    },
    {
     "data": {
      "text/html": [],
      "text/plain": [
       "<IPython.core.display.HTML object>"
      ]
     },
     "metadata": {},
     "output_type": "display_data"
    },
    {
     "data": {
      "text/html": [],
      "text/plain": [
       "<IPython.core.display.HTML object>"
      ]
     },
     "metadata": {},
     "output_type": "display_data"
    },
    {
     "data": {
      "text/html": [],
      "text/plain": [
       "<IPython.core.display.HTML object>"
      ]
     },
     "metadata": {},
     "output_type": "display_data"
    },
    {
     "data": {
      "text/html": [],
      "text/plain": [
       "<IPython.core.display.HTML object>"
      ]
     },
     "metadata": {},
     "output_type": "display_data"
    },
    {
     "data": {
      "text/html": [],
      "text/plain": [
       "<IPython.core.display.HTML object>"
      ]
     },
     "metadata": {},
     "output_type": "display_data"
    },
    {
     "data": {
      "text/html": [],
      "text/plain": [
       "<IPython.core.display.HTML object>"
      ]
     },
     "metadata": {},
     "output_type": "display_data"
    },
    {
     "data": {
      "text/html": [],
      "text/plain": [
       "<IPython.core.display.HTML object>"
      ]
     },
     "metadata": {},
     "output_type": "display_data"
    },
    {
     "data": {
      "text/html": [],
      "text/plain": [
       "<IPython.core.display.HTML object>"
      ]
     },
     "metadata": {},
     "output_type": "display_data"
    },
    {
     "data": {
      "text/html": [],
      "text/plain": [
       "<IPython.core.display.HTML object>"
      ]
     },
     "metadata": {},
     "output_type": "display_data"
    },
    {
     "data": {
      "text/html": [],
      "text/plain": [
       "<IPython.core.display.HTML object>"
      ]
     },
     "metadata": {},
     "output_type": "display_data"
    },
    {
     "data": {
      "text/html": [],
      "text/plain": [
       "<IPython.core.display.HTML object>"
      ]
     },
     "metadata": {},
     "output_type": "display_data"
    },
    {
     "data": {
      "text/html": [],
      "text/plain": [
       "<IPython.core.display.HTML object>"
      ]
     },
     "metadata": {},
     "output_type": "display_data"
    },
    {
     "data": {
      "text/html": [],
      "text/plain": [
       "<IPython.core.display.HTML object>"
      ]
     },
     "metadata": {},
     "output_type": "display_data"
    },
    {
     "data": {
      "text/html": [],
      "text/plain": [
       "<IPython.core.display.HTML object>"
      ]
     },
     "metadata": {},
     "output_type": "display_data"
    },
    {
     "data": {
      "text/html": [],
      "text/plain": [
       "<IPython.core.display.HTML object>"
      ]
     },
     "metadata": {},
     "output_type": "display_data"
    },
    {
     "data": {
      "text/html": [],
      "text/plain": [
       "<IPython.core.display.HTML object>"
      ]
     },
     "metadata": {},
     "output_type": "display_data"
    },
    {
     "data": {
      "text/html": [],
      "text/plain": [
       "<IPython.core.display.HTML object>"
      ]
     },
     "metadata": {},
     "output_type": "display_data"
    },
    {
     "data": {
      "text/html": [],
      "text/plain": [
       "<IPython.core.display.HTML object>"
      ]
     },
     "metadata": {},
     "output_type": "display_data"
    },
    {
     "data": {
      "text/html": [],
      "text/plain": [
       "<IPython.core.display.HTML object>"
      ]
     },
     "metadata": {},
     "output_type": "display_data"
    },
    {
     "data": {
      "text/html": [],
      "text/plain": [
       "<IPython.core.display.HTML object>"
      ]
     },
     "metadata": {},
     "output_type": "display_data"
    },
    {
     "data": {
      "text/html": [],
      "text/plain": [
       "<IPython.core.display.HTML object>"
      ]
     },
     "metadata": {},
     "output_type": "display_data"
    },
    {
     "data": {
      "text/html": [],
      "text/plain": [
       "<IPython.core.display.HTML object>"
      ]
     },
     "metadata": {},
     "output_type": "display_data"
    },
    {
     "data": {
      "text/html": [],
      "text/plain": [
       "<IPython.core.display.HTML object>"
      ]
     },
     "metadata": {},
     "output_type": "display_data"
    },
    {
     "data": {
      "text/html": [],
      "text/plain": [
       "<IPython.core.display.HTML object>"
      ]
     },
     "metadata": {},
     "output_type": "display_data"
    },
    {
     "data": {
      "text/html": [],
      "text/plain": [
       "<IPython.core.display.HTML object>"
      ]
     },
     "metadata": {},
     "output_type": "display_data"
    },
    {
     "data": {
      "text/html": [],
      "text/plain": [
       "<IPython.core.display.HTML object>"
      ]
     },
     "metadata": {},
     "output_type": "display_data"
    },
    {
     "data": {
      "text/html": [],
      "text/plain": [
       "<IPython.core.display.HTML object>"
      ]
     },
     "metadata": {},
     "output_type": "display_data"
    },
    {
     "data": {
      "text/html": [],
      "text/plain": [
       "<IPython.core.display.HTML object>"
      ]
     },
     "metadata": {},
     "output_type": "display_data"
    },
    {
     "data": {
      "text/html": [],
      "text/plain": [
       "<IPython.core.display.HTML object>"
      ]
     },
     "metadata": {},
     "output_type": "display_data"
    },
    {
     "data": {
      "text/html": [],
      "text/plain": [
       "<IPython.core.display.HTML object>"
      ]
     },
     "metadata": {},
     "output_type": "display_data"
    },
    {
     "data": {
      "text/html": [],
      "text/plain": [
       "<IPython.core.display.HTML object>"
      ]
     },
     "metadata": {},
     "output_type": "display_data"
    },
    {
     "data": {
      "text/html": [],
      "text/plain": [
       "<IPython.core.display.HTML object>"
      ]
     },
     "metadata": {},
     "output_type": "display_data"
    },
    {
     "data": {
      "text/html": [],
      "text/plain": [
       "<IPython.core.display.HTML object>"
      ]
     },
     "metadata": {},
     "output_type": "display_data"
    },
    {
     "data": {
      "text/html": [],
      "text/plain": [
       "<IPython.core.display.HTML object>"
      ]
     },
     "metadata": {},
     "output_type": "display_data"
    },
    {
     "data": {
      "text/html": [],
      "text/plain": [
       "<IPython.core.display.HTML object>"
      ]
     },
     "metadata": {},
     "output_type": "display_data"
    },
    {
     "data": {
      "text/html": [],
      "text/plain": [
       "<IPython.core.display.HTML object>"
      ]
     },
     "metadata": {},
     "output_type": "display_data"
    },
    {
     "data": {
      "text/html": [],
      "text/plain": [
       "<IPython.core.display.HTML object>"
      ]
     },
     "metadata": {},
     "output_type": "display_data"
    },
    {
     "data": {
      "text/html": [],
      "text/plain": [
       "<IPython.core.display.HTML object>"
      ]
     },
     "metadata": {},
     "output_type": "display_data"
    },
    {
     "data": {
      "text/html": [],
      "text/plain": [
       "<IPython.core.display.HTML object>"
      ]
     },
     "metadata": {},
     "output_type": "display_data"
    },
    {
     "data": {
      "text/html": [],
      "text/plain": [
       "<IPython.core.display.HTML object>"
      ]
     },
     "metadata": {},
     "output_type": "display_data"
    },
    {
     "data": {
      "text/html": [],
      "text/plain": [
       "<IPython.core.display.HTML object>"
      ]
     },
     "metadata": {},
     "output_type": "display_data"
    },
    {
     "data": {
      "text/html": [],
      "text/plain": [
       "<IPython.core.display.HTML object>"
      ]
     },
     "metadata": {},
     "output_type": "display_data"
    },
    {
     "data": {
      "text/html": [],
      "text/plain": [
       "<IPython.core.display.HTML object>"
      ]
     },
     "metadata": {},
     "output_type": "display_data"
    },
    {
     "data": {
      "text/html": [],
      "text/plain": [
       "<IPython.core.display.HTML object>"
      ]
     },
     "metadata": {},
     "output_type": "display_data"
    },
    {
     "data": {
      "text/html": [],
      "text/plain": [
       "<IPython.core.display.HTML object>"
      ]
     },
     "metadata": {},
     "output_type": "display_data"
    },
    {
     "data": {
      "text/html": [],
      "text/plain": [
       "<IPython.core.display.HTML object>"
      ]
     },
     "metadata": {},
     "output_type": "display_data"
    },
    {
     "data": {
      "text/html": [],
      "text/plain": [
       "<IPython.core.display.HTML object>"
      ]
     },
     "metadata": {},
     "output_type": "display_data"
    },
    {
     "data": {
      "text/html": [],
      "text/plain": [
       "<IPython.core.display.HTML object>"
      ]
     },
     "metadata": {},
     "output_type": "display_data"
    },
    {
     "data": {
      "text/html": [],
      "text/plain": [
       "<IPython.core.display.HTML object>"
      ]
     },
     "metadata": {},
     "output_type": "display_data"
    },
    {
     "data": {
      "text/html": [],
      "text/plain": [
       "<IPython.core.display.HTML object>"
      ]
     },
     "metadata": {},
     "output_type": "display_data"
    },
    {
     "data": {
      "text/html": [],
      "text/plain": [
       "<IPython.core.display.HTML object>"
      ]
     },
     "metadata": {},
     "output_type": "display_data"
    },
    {
     "data": {
      "text/html": [],
      "text/plain": [
       "<IPython.core.display.HTML object>"
      ]
     },
     "metadata": {},
     "output_type": "display_data"
    },
    {
     "data": {
      "text/html": [],
      "text/plain": [
       "<IPython.core.display.HTML object>"
      ]
     },
     "metadata": {},
     "output_type": "display_data"
    },
    {
     "data": {
      "text/html": [],
      "text/plain": [
       "<IPython.core.display.HTML object>"
      ]
     },
     "metadata": {},
     "output_type": "display_data"
    },
    {
     "data": {
      "text/html": [],
      "text/plain": [
       "<IPython.core.display.HTML object>"
      ]
     },
     "metadata": {},
     "output_type": "display_data"
    },
    {
     "data": {
      "text/html": [],
      "text/plain": [
       "<IPython.core.display.HTML object>"
      ]
     },
     "metadata": {},
     "output_type": "display_data"
    },
    {
     "data": {
      "text/html": [],
      "text/plain": [
       "<IPython.core.display.HTML object>"
      ]
     },
     "metadata": {},
     "output_type": "display_data"
    },
    {
     "data": {
      "text/html": [],
      "text/plain": [
       "<IPython.core.display.HTML object>"
      ]
     },
     "metadata": {},
     "output_type": "display_data"
    },
    {
     "data": {
      "text/html": [],
      "text/plain": [
       "<IPython.core.display.HTML object>"
      ]
     },
     "metadata": {},
     "output_type": "display_data"
    },
    {
     "data": {
      "text/html": [],
      "text/plain": [
       "<IPython.core.display.HTML object>"
      ]
     },
     "metadata": {},
     "output_type": "display_data"
    },
    {
     "data": {
      "text/html": [],
      "text/plain": [
       "<IPython.core.display.HTML object>"
      ]
     },
     "metadata": {},
     "output_type": "display_data"
    },
    {
     "data": {
      "text/html": [],
      "text/plain": [
       "<IPython.core.display.HTML object>"
      ]
     },
     "metadata": {},
     "output_type": "display_data"
    },
    {
     "data": {
      "text/html": [],
      "text/plain": [
       "<IPython.core.display.HTML object>"
      ]
     },
     "metadata": {},
     "output_type": "display_data"
    },
    {
     "data": {
      "text/html": [],
      "text/plain": [
       "<IPython.core.display.HTML object>"
      ]
     },
     "metadata": {},
     "output_type": "display_data"
    },
    {
     "data": {
      "text/html": [],
      "text/plain": [
       "<IPython.core.display.HTML object>"
      ]
     },
     "metadata": {},
     "output_type": "display_data"
    },
    {
     "data": {
      "text/html": [],
      "text/plain": [
       "<IPython.core.display.HTML object>"
      ]
     },
     "metadata": {},
     "output_type": "display_data"
    },
    {
     "data": {
      "text/html": [],
      "text/plain": [
       "<IPython.core.display.HTML object>"
      ]
     },
     "metadata": {},
     "output_type": "display_data"
    },
    {
     "data": {
      "text/html": [],
      "text/plain": [
       "<IPython.core.display.HTML object>"
      ]
     },
     "metadata": {},
     "output_type": "display_data"
    },
    {
     "data": {
      "text/html": [],
      "text/plain": [
       "<IPython.core.display.HTML object>"
      ]
     },
     "metadata": {},
     "output_type": "display_data"
    },
    {
     "data": {
      "text/html": [],
      "text/plain": [
       "<IPython.core.display.HTML object>"
      ]
     },
     "metadata": {},
     "output_type": "display_data"
    },
    {
     "data": {
      "text/html": [],
      "text/plain": [
       "<IPython.core.display.HTML object>"
      ]
     },
     "metadata": {},
     "output_type": "display_data"
    },
    {
     "data": {
      "text/html": [],
      "text/plain": [
       "<IPython.core.display.HTML object>"
      ]
     },
     "metadata": {},
     "output_type": "display_data"
    },
    {
     "data": {
      "text/html": [],
      "text/plain": [
       "<IPython.core.display.HTML object>"
      ]
     },
     "metadata": {},
     "output_type": "display_data"
    },
    {
     "data": {
      "text/html": [],
      "text/plain": [
       "<IPython.core.display.HTML object>"
      ]
     },
     "metadata": {},
     "output_type": "display_data"
    },
    {
     "data": {
      "text/html": [],
      "text/plain": [
       "<IPython.core.display.HTML object>"
      ]
     },
     "metadata": {},
     "output_type": "display_data"
    },
    {
     "data": {
      "text/html": [],
      "text/plain": [
       "<IPython.core.display.HTML object>"
      ]
     },
     "metadata": {},
     "output_type": "display_data"
    },
    {
     "data": {
      "text/html": [],
      "text/plain": [
       "<IPython.core.display.HTML object>"
      ]
     },
     "metadata": {},
     "output_type": "display_data"
    },
    {
     "data": {
      "text/html": [],
      "text/plain": [
       "<IPython.core.display.HTML object>"
      ]
     },
     "metadata": {},
     "output_type": "display_data"
    },
    {
     "data": {
      "text/html": [],
      "text/plain": [
       "<IPython.core.display.HTML object>"
      ]
     },
     "metadata": {},
     "output_type": "display_data"
    },
    {
     "data": {
      "text/html": [],
      "text/plain": [
       "<IPython.core.display.HTML object>"
      ]
     },
     "metadata": {},
     "output_type": "display_data"
    },
    {
     "data": {
      "text/html": [],
      "text/plain": [
       "<IPython.core.display.HTML object>"
      ]
     },
     "metadata": {},
     "output_type": "display_data"
    },
    {
     "data": {
      "text/html": [],
      "text/plain": [
       "<IPython.core.display.HTML object>"
      ]
     },
     "metadata": {},
     "output_type": "display_data"
    },
    {
     "data": {
      "text/html": [],
      "text/plain": [
       "<IPython.core.display.HTML object>"
      ]
     },
     "metadata": {},
     "output_type": "display_data"
    },
    {
     "name": "stdout",
     "output_type": "stream",
     "text": [
      "Training with learning rate 5e-05 and 50 epochs took 4321.61 seconds.\n"
     ]
    },
    {
     "data": {
      "text/html": [
       "\n",
       "    <div>\n",
       "      \n",
       "      <progress value='20' max='10' style='width:300px; height:20px; vertical-align: middle;'></progress>\n",
       "      [10/10 1:08:31]\n",
       "    </div>\n",
       "    "
      ],
      "text/plain": [
       "<IPython.core.display.HTML object>"
      ]
     },
     "metadata": {},
     "output_type": "display_data"
    },
    {
     "name": "stdout",
     "output_type": "stream",
     "text": [
      "Model dengan lapisan tersembunyi:\n",
      "{'eval_loss': 0.350295752286911, 'eval_accuracy': 0.832258064516129, 'eval_precision': 0.8293107877785297, 'eval_recall': 0.832258064516129, 'eval_f1': 0.8303763731190924, 'eval_runtime': 4.5682, 'eval_samples_per_second': 67.86, 'eval_steps_per_second': 2.189, 'epoch': 50.0}\n",
      "Hasil pelatihan disimpan dalam file: ./training_results_with_hidden.csv\n"
     ]
    }
   ],
   "source": [
    "#Training dengan lapisan tersembunyi\n",
    "for lr in learning_rates:\n",
    "    for epoch in epochs:\n",
    "        print(f\"Training with learning rate: {lr}, epochs: {epoch} with Hidden Layer\")\n",
    "\n",
    "        \n",
    "        training_args.output_dir = f'./results_with_hidden_lr_{lr}_epochs_{epoch}'\n",
    "        \n",
    "        \n",
    "        trainer_with_hidden.train()\n",
    "\n",
    "        end_time = time.time()\n",
    "        training_time = end_time - start_time\n",
    "        print(f\"Training with learning rate {lr} and {epoch} epochs took {training_time:.2f} seconds.\")\n",
    "        \n",
    "        eval_results_with_hidden = trainer_with_hidden.evaluate()\n",
    "\n",
    "        print(\"Model dengan lapisan tersembunyi:\")\n",
    "        print(eval_results_with_hidden)\n",
    "\n",
    "        df_results_with_hidden = pd.DataFrame(epoch_results_list)\n",
    "        csv_output_path_with_hidden = './training_results_with_hidden.csv'\n",
    "        df_results_with_hidden.to_csv(csv_output_path_with_hidden, index=False)\n",
    "        print(f\"Hasil pelatihan disimpan dalam file: {csv_output_path_with_hidden}\")\n"
   ]
  },
  {
   "cell_type": "code",
   "execution_count": 24,
   "id": "842e2d2a-4ff7-4b0e-a496-4be55f92c8c2",
   "metadata": {},
   "outputs": [
    {
     "name": "stdout",
     "output_type": "stream",
     "text": [
      "Training with learning rate: 5e-05, epochs: 50 without Hidden Layer\n"
     ]
    },
    {
     "data": {
      "text/html": [
       "\n",
       "    <div>\n",
       "      \n",
       "      <progress value='3400' max='3400' style='width:300px; height:20px; vertical-align: middle;'></progress>\n",
       "      [3400/3400 1:08:17, Epoch 50/50]\n",
       "    </div>\n",
       "    <table border=\"1\" class=\"dataframe\">\n",
       "  <thead>\n",
       " <tr style=\"text-align: left;\">\n",
       "      <th>Epoch</th>\n",
       "      <th>Training Loss</th>\n",
       "      <th>Validation Loss</th>\n",
       "      <th>Model Preparation Time</th>\n",
       "      <th>Accuracy</th>\n",
       "      <th>Precision</th>\n",
       "      <th>Recall</th>\n",
       "      <th>F1</th>\n",
       "    </tr>\n",
       "  </thead>\n",
       "  <tbody>\n",
       "    <tr>\n",
       "      <td>1</td>\n",
       "      <td>0.454300</td>\n",
       "      <td>0.471743</td>\n",
       "      <td>0.000000</td>\n",
       "      <td>0.822581</td>\n",
       "      <td>0.817729</td>\n",
       "      <td>0.822581</td>\n",
       "      <td>0.819535</td>\n",
       "    </tr>\n",
       "    <tr>\n",
       "      <td>2</td>\n",
       "      <td>0.011900</td>\n",
       "      <td>0.659897</td>\n",
       "      <td>0.000000</td>\n",
       "      <td>0.825806</td>\n",
       "      <td>0.828347</td>\n",
       "      <td>0.825806</td>\n",
       "      <td>0.822599</td>\n",
       "    </tr>\n",
       "    <tr>\n",
       "      <td>3</td>\n",
       "      <td>0.272600</td>\n",
       "      <td>0.917834</td>\n",
       "      <td>0.000000</td>\n",
       "      <td>0.793548</td>\n",
       "      <td>0.787755</td>\n",
       "      <td>0.793548</td>\n",
       "      <td>0.783178</td>\n",
       "    </tr>\n",
       "    <tr>\n",
       "      <td>4</td>\n",
       "      <td>0.000900</td>\n",
       "      <td>0.747611</td>\n",
       "      <td>0.000000</td>\n",
       "      <td>0.845161</td>\n",
       "      <td>0.842628</td>\n",
       "      <td>0.845161</td>\n",
       "      <td>0.842482</td>\n",
       "    </tr>\n",
       "    <tr>\n",
       "      <td>5</td>\n",
       "      <td>0.000200</td>\n",
       "      <td>0.871259</td>\n",
       "      <td>0.000000</td>\n",
       "      <td>0.864516</td>\n",
       "      <td>0.862591</td>\n",
       "      <td>0.864516</td>\n",
       "      <td>0.863336</td>\n",
       "    </tr>\n",
       "    <tr>\n",
       "      <td>6</td>\n",
       "      <td>0.632400</td>\n",
       "      <td>1.131006</td>\n",
       "      <td>0.000000</td>\n",
       "      <td>0.822581</td>\n",
       "      <td>0.818624</td>\n",
       "      <td>0.822581</td>\n",
       "      <td>0.817350</td>\n",
       "    </tr>\n",
       "    <tr>\n",
       "      <td>7</td>\n",
       "      <td>0.008400</td>\n",
       "      <td>1.051175</td>\n",
       "      <td>0.000000</td>\n",
       "      <td>0.822581</td>\n",
       "      <td>0.818577</td>\n",
       "      <td>0.822581</td>\n",
       "      <td>0.816042</td>\n",
       "    </tr>\n",
       "    <tr>\n",
       "      <td>8</td>\n",
       "      <td>0.000800</td>\n",
       "      <td>1.008320</td>\n",
       "      <td>0.000000</td>\n",
       "      <td>0.832258</td>\n",
       "      <td>0.834728</td>\n",
       "      <td>0.832258</td>\n",
       "      <td>0.827101</td>\n",
       "    </tr>\n",
       "    <tr>\n",
       "      <td>9</td>\n",
       "      <td>0.000300</td>\n",
       "      <td>0.788131</td>\n",
       "      <td>0.000000</td>\n",
       "      <td>0.861290</td>\n",
       "      <td>0.860961</td>\n",
       "      <td>0.861290</td>\n",
       "      <td>0.860850</td>\n",
       "    </tr>\n",
       "    <tr>\n",
       "      <td>10</td>\n",
       "      <td>0.001300</td>\n",
       "      <td>0.805188</td>\n",
       "      <td>0.000000</td>\n",
       "      <td>0.880645</td>\n",
       "      <td>0.879909</td>\n",
       "      <td>0.880645</td>\n",
       "      <td>0.879756</td>\n",
       "    </tr>\n",
       "    <tr>\n",
       "      <td>11</td>\n",
       "      <td>0.001900</td>\n",
       "      <td>1.240455</td>\n",
       "      <td>0.000000</td>\n",
       "      <td>0.812903</td>\n",
       "      <td>0.826974</td>\n",
       "      <td>0.812903</td>\n",
       "      <td>0.807324</td>\n",
       "    </tr>\n",
       "    <tr>\n",
       "      <td>12</td>\n",
       "      <td>0.000300</td>\n",
       "      <td>1.005631</td>\n",
       "      <td>0.000000</td>\n",
       "      <td>0.867742</td>\n",
       "      <td>0.866100</td>\n",
       "      <td>0.867742</td>\n",
       "      <td>0.866827</td>\n",
       "    </tr>\n",
       "    <tr>\n",
       "      <td>13</td>\n",
       "      <td>1.176700</td>\n",
       "      <td>0.909541</td>\n",
       "      <td>0.000000</td>\n",
       "      <td>0.883871</td>\n",
       "      <td>0.890507</td>\n",
       "      <td>0.883871</td>\n",
       "      <td>0.881904</td>\n",
       "    </tr>\n",
       "    <tr>\n",
       "      <td>14</td>\n",
       "      <td>0.000300</td>\n",
       "      <td>1.422272</td>\n",
       "      <td>0.000000</td>\n",
       "      <td>0.825806</td>\n",
       "      <td>0.829282</td>\n",
       "      <td>0.825806</td>\n",
       "      <td>0.816776</td>\n",
       "    </tr>\n",
       "    <tr>\n",
       "      <td>15</td>\n",
       "      <td>0.000100</td>\n",
       "      <td>1.437550</td>\n",
       "      <td>0.000000</td>\n",
       "      <td>0.819355</td>\n",
       "      <td>0.835044</td>\n",
       "      <td>0.819355</td>\n",
       "      <td>0.813645</td>\n",
       "    </tr>\n",
       "    <tr>\n",
       "      <td>16</td>\n",
       "      <td>0.000800</td>\n",
       "      <td>0.882043</td>\n",
       "      <td>0.000000</td>\n",
       "      <td>0.880645</td>\n",
       "      <td>0.881435</td>\n",
       "      <td>0.880645</td>\n",
       "      <td>0.880260</td>\n",
       "    </tr>\n",
       "    <tr>\n",
       "      <td>17</td>\n",
       "      <td>0.722900</td>\n",
       "      <td>1.174253</td>\n",
       "      <td>0.000000</td>\n",
       "      <td>0.858065</td>\n",
       "      <td>0.855441</td>\n",
       "      <td>0.858065</td>\n",
       "      <td>0.856421</td>\n",
       "    </tr>\n",
       "    <tr>\n",
       "      <td>18</td>\n",
       "      <td>0.000100</td>\n",
       "      <td>1.254512</td>\n",
       "      <td>0.000000</td>\n",
       "      <td>0.854839</td>\n",
       "      <td>0.851420</td>\n",
       "      <td>0.854839</td>\n",
       "      <td>0.852484</td>\n",
       "    </tr>\n",
       "    <tr>\n",
       "      <td>19</td>\n",
       "      <td>0.000000</td>\n",
       "      <td>1.263787</td>\n",
       "      <td>0.000000</td>\n",
       "      <td>0.858065</td>\n",
       "      <td>0.854964</td>\n",
       "      <td>0.858065</td>\n",
       "      <td>0.856030</td>\n",
       "    </tr>\n",
       "    <tr>\n",
       "      <td>20</td>\n",
       "      <td>0.000300</td>\n",
       "      <td>1.019936</td>\n",
       "      <td>0.000000</td>\n",
       "      <td>0.903226</td>\n",
       "      <td>0.907321</td>\n",
       "      <td>0.903226</td>\n",
       "      <td>0.902430</td>\n",
       "    </tr>\n",
       "    <tr>\n",
       "      <td>21</td>\n",
       "      <td>0.000000</td>\n",
       "      <td>1.108907</td>\n",
       "      <td>0.000000</td>\n",
       "      <td>0.887097</td>\n",
       "      <td>0.886398</td>\n",
       "      <td>0.887097</td>\n",
       "      <td>0.886363</td>\n",
       "    </tr>\n",
       "    <tr>\n",
       "      <td>22</td>\n",
       "      <td>0.000000</td>\n",
       "      <td>1.208992</td>\n",
       "      <td>0.000000</td>\n",
       "      <td>0.883871</td>\n",
       "      <td>0.882480</td>\n",
       "      <td>0.883871</td>\n",
       "      <td>0.882997</td>\n",
       "    </tr>\n",
       "    <tr>\n",
       "      <td>23</td>\n",
       "      <td>0.000000</td>\n",
       "      <td>1.443541</td>\n",
       "      <td>0.000000</td>\n",
       "      <td>0.845161</td>\n",
       "      <td>0.841022</td>\n",
       "      <td>0.845161</td>\n",
       "      <td>0.841656</td>\n",
       "    </tr>\n",
       "    <tr>\n",
       "      <td>24</td>\n",
       "      <td>0.001000</td>\n",
       "      <td>1.411489</td>\n",
       "      <td>0.000000</td>\n",
       "      <td>0.854839</td>\n",
       "      <td>0.852344</td>\n",
       "      <td>0.854839</td>\n",
       "      <td>0.852350</td>\n",
       "    </tr>\n",
       "    <tr>\n",
       "      <td>25</td>\n",
       "      <td>0.000000</td>\n",
       "      <td>1.615910</td>\n",
       "      <td>0.000000</td>\n",
       "      <td>0.819355</td>\n",
       "      <td>0.832701</td>\n",
       "      <td>0.819355</td>\n",
       "      <td>0.813423</td>\n",
       "    </tr>\n",
       "    <tr>\n",
       "      <td>26</td>\n",
       "      <td>0.000000</td>\n",
       "      <td>1.553550</td>\n",
       "      <td>0.000000</td>\n",
       "      <td>0.835484</td>\n",
       "      <td>0.841838</td>\n",
       "      <td>0.835484</td>\n",
       "      <td>0.832295</td>\n",
       "    </tr>\n",
       "    <tr>\n",
       "      <td>27</td>\n",
       "      <td>0.000000</td>\n",
       "      <td>1.260371</td>\n",
       "      <td>0.000000</td>\n",
       "      <td>0.877419</td>\n",
       "      <td>0.877175</td>\n",
       "      <td>0.877419</td>\n",
       "      <td>0.876581</td>\n",
       "    </tr>\n",
       "    <tr>\n",
       "      <td>28</td>\n",
       "      <td>0.000000</td>\n",
       "      <td>1.182721</td>\n",
       "      <td>0.000000</td>\n",
       "      <td>0.880645</td>\n",
       "      <td>0.880196</td>\n",
       "      <td>0.880645</td>\n",
       "      <td>0.879881</td>\n",
       "    </tr>\n",
       "    <tr>\n",
       "      <td>29</td>\n",
       "      <td>0.000000</td>\n",
       "      <td>1.200772</td>\n",
       "      <td>0.000000</td>\n",
       "      <td>0.877419</td>\n",
       "      <td>0.877175</td>\n",
       "      <td>0.877419</td>\n",
       "      <td>0.876581</td>\n",
       "    </tr>\n",
       "    <tr>\n",
       "      <td>30</td>\n",
       "      <td>0.000000</td>\n",
       "      <td>1.417570</td>\n",
       "      <td>0.000000</td>\n",
       "      <td>0.861290</td>\n",
       "      <td>0.860897</td>\n",
       "      <td>0.861290</td>\n",
       "      <td>0.859263</td>\n",
       "    </tr>\n",
       "    <tr>\n",
       "      <td>31</td>\n",
       "      <td>0.000000</td>\n",
       "      <td>2.080599</td>\n",
       "      <td>0.000000</td>\n",
       "      <td>0.800000</td>\n",
       "      <td>0.811652</td>\n",
       "      <td>0.800000</td>\n",
       "      <td>0.788984</td>\n",
       "    </tr>\n",
       "    <tr>\n",
       "      <td>32</td>\n",
       "      <td>0.000000</td>\n",
       "      <td>1.732851</td>\n",
       "      <td>0.000000</td>\n",
       "      <td>0.825806</td>\n",
       "      <td>0.832621</td>\n",
       "      <td>0.825806</td>\n",
       "      <td>0.821267</td>\n",
       "    </tr>\n",
       "    <tr>\n",
       "      <td>33</td>\n",
       "      <td>0.000000</td>\n",
       "      <td>1.649473</td>\n",
       "      <td>0.000000</td>\n",
       "      <td>0.835484</td>\n",
       "      <td>0.839504</td>\n",
       "      <td>0.835484</td>\n",
       "      <td>0.831420</td>\n",
       "    </tr>\n",
       "    <tr>\n",
       "      <td>34</td>\n",
       "      <td>0.000000</td>\n",
       "      <td>1.577113</td>\n",
       "      <td>0.000000</td>\n",
       "      <td>0.841935</td>\n",
       "      <td>0.843693</td>\n",
       "      <td>0.841935</td>\n",
       "      <td>0.838771</td>\n",
       "    </tr>\n",
       "    <tr>\n",
       "      <td>35</td>\n",
       "      <td>0.000000</td>\n",
       "      <td>1.587793</td>\n",
       "      <td>0.000000</td>\n",
       "      <td>0.841935</td>\n",
       "      <td>0.843693</td>\n",
       "      <td>0.841935</td>\n",
       "      <td>0.838771</td>\n",
       "    </tr>\n",
       "    <tr>\n",
       "      <td>36</td>\n",
       "      <td>0.000000</td>\n",
       "      <td>1.592980</td>\n",
       "      <td>0.000000</td>\n",
       "      <td>0.845161</td>\n",
       "      <td>0.846507</td>\n",
       "      <td>0.845161</td>\n",
       "      <td>0.842219</td>\n",
       "    </tr>\n",
       "    <tr>\n",
       "      <td>37</td>\n",
       "      <td>0.000000</td>\n",
       "      <td>1.587074</td>\n",
       "      <td>0.000000</td>\n",
       "      <td>0.851613</td>\n",
       "      <td>0.852194</td>\n",
       "      <td>0.851613</td>\n",
       "      <td>0.849074</td>\n",
       "    </tr>\n",
       "    <tr>\n",
       "      <td>38</td>\n",
       "      <td>0.000000</td>\n",
       "      <td>1.349204</td>\n",
       "      <td>0.000000</td>\n",
       "      <td>0.864516</td>\n",
       "      <td>0.864065</td>\n",
       "      <td>0.864516</td>\n",
       "      <td>0.864119</td>\n",
       "    </tr>\n",
       "    <tr>\n",
       "      <td>39</td>\n",
       "      <td>0.000000</td>\n",
       "      <td>1.391581</td>\n",
       "      <td>0.000000</td>\n",
       "      <td>0.867742</td>\n",
       "      <td>0.868308</td>\n",
       "      <td>0.867742</td>\n",
       "      <td>0.866627</td>\n",
       "    </tr>\n",
       "    <tr>\n",
       "      <td>40</td>\n",
       "      <td>0.000000</td>\n",
       "      <td>1.404415</td>\n",
       "      <td>0.000000</td>\n",
       "      <td>0.864516</td>\n",
       "      <td>0.865412</td>\n",
       "      <td>0.864516</td>\n",
       "      <td>0.863289</td>\n",
       "    </tr>\n",
       "    <tr>\n",
       "      <td>41</td>\n",
       "      <td>0.000000</td>\n",
       "      <td>1.412331</td>\n",
       "      <td>0.000000</td>\n",
       "      <td>0.864516</td>\n",
       "      <td>0.865412</td>\n",
       "      <td>0.864516</td>\n",
       "      <td>0.863289</td>\n",
       "    </tr>\n",
       "    <tr>\n",
       "      <td>42</td>\n",
       "      <td>0.000000</td>\n",
       "      <td>1.641029</td>\n",
       "      <td>0.000000</td>\n",
       "      <td>0.841935</td>\n",
       "      <td>0.845802</td>\n",
       "      <td>0.841935</td>\n",
       "      <td>0.839587</td>\n",
       "    </tr>\n",
       "    <tr>\n",
       "      <td>43</td>\n",
       "      <td>0.000000</td>\n",
       "      <td>1.828986</td>\n",
       "      <td>0.000000</td>\n",
       "      <td>0.829032</td>\n",
       "      <td>0.836553</td>\n",
       "      <td>0.829032</td>\n",
       "      <td>0.825281</td>\n",
       "    </tr>\n",
       "    <tr>\n",
       "      <td>44</td>\n",
       "      <td>0.000000</td>\n",
       "      <td>1.821710</td>\n",
       "      <td>0.000000</td>\n",
       "      <td>0.829032</td>\n",
       "      <td>0.836553</td>\n",
       "      <td>0.829032</td>\n",
       "      <td>0.825281</td>\n",
       "    </tr>\n",
       "    <tr>\n",
       "      <td>45</td>\n",
       "      <td>0.000000</td>\n",
       "      <td>1.487943</td>\n",
       "      <td>0.000000</td>\n",
       "      <td>0.851613</td>\n",
       "      <td>0.854081</td>\n",
       "      <td>0.851613</td>\n",
       "      <td>0.849822</td>\n",
       "    </tr>\n",
       "    <tr>\n",
       "      <td>46</td>\n",
       "      <td>0.000000</td>\n",
       "      <td>1.508816</td>\n",
       "      <td>0.000000</td>\n",
       "      <td>0.851613</td>\n",
       "      <td>0.854081</td>\n",
       "      <td>0.851613</td>\n",
       "      <td>0.849822</td>\n",
       "    </tr>\n",
       "    <tr>\n",
       "      <td>47</td>\n",
       "      <td>0.000000</td>\n",
       "      <td>1.336722</td>\n",
       "      <td>0.000000</td>\n",
       "      <td>0.864516</td>\n",
       "      <td>0.863387</td>\n",
       "      <td>0.864516</td>\n",
       "      <td>0.863791</td>\n",
       "    </tr>\n",
       "    <tr>\n",
       "      <td>48</td>\n",
       "      <td>0.000000</td>\n",
       "      <td>1.338727</td>\n",
       "      <td>0.000000</td>\n",
       "      <td>0.864516</td>\n",
       "      <td>0.863387</td>\n",
       "      <td>0.864516</td>\n",
       "      <td>0.863791</td>\n",
       "    </tr>\n",
       "    <tr>\n",
       "      <td>49</td>\n",
       "      <td>0.000000</td>\n",
       "      <td>1.373350</td>\n",
       "      <td>0.000000</td>\n",
       "      <td>0.867742</td>\n",
       "      <td>0.867113</td>\n",
       "      <td>0.867742</td>\n",
       "      <td>0.866901</td>\n",
       "    </tr>\n",
       "    <tr>\n",
       "      <td>50</td>\n",
       "      <td>0.000000</td>\n",
       "      <td>1.374197</td>\n",
       "      <td>0.000000</td>\n",
       "      <td>0.867742</td>\n",
       "      <td>0.867113</td>\n",
       "      <td>0.867742</td>\n",
       "      <td>0.866901</td>\n",
       "    </tr>\n",
       "  </tbody>\n",
       "</table><p>\n",
       "    <div>\n",
       "      \n",
       "      <progress value='34' max='34' style='width:300px; height:20px; vertical-align: middle;'></progress>\n",
       "      [34/34 00:15]\n",
       "    </div>\n",
       "    "
      ],
      "text/plain": [
       "<IPython.core.display.HTML object>"
      ]
     },
     "metadata": {},
     "output_type": "display_data"
    },
    {
     "name": "stdout",
     "output_type": "stream",
     "text": [
      "Training with learning rate 5e-05 and 50 epochs took 8424.39 seconds.\n"
     ]
    },
    {
     "data": {
      "text/html": [
       "\n",
       "    <div>\n",
       "      \n",
       "      <progress value='20' max='10' style='width:300px; height:20px; vertical-align: middle;'></progress>\n",
       "      [10/10 00:13]\n",
       "    </div>\n",
       "    "
      ],
      "text/plain": [
       "<IPython.core.display.HTML object>"
      ]
     },
     "metadata": {},
     "output_type": "display_data"
    },
    {
     "name": "stdout",
     "output_type": "stream",
     "text": [
      "Model tanpa lapisan tersembunyi:\n",
      "{'eval_loss': 1.374197244644165, 'eval_model_preparation_time': 0.0, 'eval_accuracy': 0.867741935483871, 'eval_precision': 0.8671126680614346, 'eval_recall': 0.867741935483871, 'eval_f1': 0.8669010038036762, 'eval_runtime': 4.5266, 'eval_samples_per_second': 68.485, 'eval_steps_per_second': 2.209, 'epoch': 50.0}\n",
      "Hasil pelatihan model tanpa lapisan tersembunyi disimpan dalam file: ./training_results_without_hidden.csv\n"
     ]
    }
   ],
   "source": [
    "#Training tanpa lapisan tersembunyi\n",
    "for lr in learning_rates:\n",
    "    for epoch in epochs:\n",
    "        print(f\"Training with learning rate: {lr}, epochs: {epoch} without Hidden Layer\")\n",
    "\n",
    "        # Update output_dir untuk model tanpa lapisan tersembunyi\n",
    "        training_args.output_dir = f'./results_without_hidden_lr_{lr}_epochs_{epoch}'\n",
    "        \n",
    "        # Train model tanpa lapisan tersembunyi\n",
    "        trainer_without_hidden.train()\n",
    "\n",
    "        end_time = time.time()\n",
    "        training_time = end_time - start_time\n",
    "        print(f\"Training with learning rate {lr} and {epoch} epochs took {training_time:.2f} seconds.\")\n",
    "        \n",
    "        eval_results_without_hidden = trainer_without_hidden.evaluate()\n",
    "\n",
    "        print(\"Model tanpa lapisan tersembunyi:\")\n",
    "        print(eval_results_without_hidden)\n",
    "\n",
    "        df_results_without_hidden = pd.DataFrame(epoch_results_list)\n",
    "        csv_output_path_without_hidden = './training_results_without_hidden.csv'\n",
    "        df_results_without_hidden.to_csv(csv_output_path_without_hidden, index=False)\n",
    "        print(f\"Hasil pelatihan model tanpa lapisan tersembunyi disimpan dalam file: {csv_output_path_without_hidden}\")"
   ]
  },
  {
   "cell_type": "code",
   "execution_count": 25,
   "id": "dcfaaa34-8bf2-4b28-81ad-a68f45e35212",
   "metadata": {},
   "outputs": [
    {
     "name": "stdout",
     "output_type": "stream",
     "text": [
      "Model dengan lapisan tersembunyi:\n",
      "{'eval_loss': 0.4588060975074768, 'eval_accuracy': 0.8580645161290322, 'eval_precision': 0.8572897987742164, 'eval_recall': 0.8580645161290322, 'eval_f1': 0.8566143482388872, 'eval_runtime': 4.4836, 'eval_samples_per_second': 69.142, 'eval_steps_per_second': 2.23, 'epoch': 50.0}\n",
      "Model tanpa lapisan tersembunyi:\n",
      "{'eval_loss': 1.374197244644165, 'eval_model_preparation_time': 0.0, 'eval_accuracy': 0.867741935483871, 'eval_precision': 0.8671126680614346, 'eval_recall': 0.867741935483871, 'eval_f1': 0.8669010038036762, 'eval_runtime': 4.4936, 'eval_samples_per_second': 68.987, 'eval_steps_per_second': 2.225, 'epoch': 50.0}\n",
      "Hasil evaluasi disimpan dalam file: ./model_comparison_results.csv\n"
     ]
    }
   ],
   "source": [
    "# Evaluasi model dengan lapisan tersembunyi\n",
    "eval_results_with_hidden = trainer_with_hidden.evaluate()\n",
    "\n",
    "# Evaluasi model tanpa lapisan tersembunyi\n",
    "eval_results_without_hidden = trainer_without_hidden.evaluate()\n",
    "\n",
    "\n",
    "print(\"Model dengan lapisan tersembunyi:\")\n",
    "print(eval_results_with_hidden)\n",
    "\n",
    "print(\"Model tanpa lapisan tersembunyi:\")\n",
    "print(eval_results_without_hidden)\n",
    "\n",
    "results = {\n",
    "    'Metric': ['accuracy', 'precision', 'recall', 'f1'],\n",
    "    'Dengan Lapisan Tersembunyi': [\n",
    "        eval_results_with_hidden.get('eval_accuracy', None),\n",
    "        eval_results_with_hidden.get('eval_precision', None),\n",
    "        eval_results_with_hidden.get('eval_recall', None),\n",
    "        eval_results_with_hidden.get('eval_f1', None),\n",
    "    ],\n",
    "    'Tanpa Lapisan Tersembunyi': [\n",
    "        eval_results_without_hidden.get('eval_accuracy', None),\n",
    "        eval_results_without_hidden.get('eval_precision', None),\n",
    "        eval_results_without_hidden.get('eval_recall', None),\n",
    "        eval_results_without_hidden.get('eval_f1', None),\n",
    "    ]\n",
    "}\n",
    "\n",
    "\n",
    "df_results = pd.DataFrame(results)\n",
    "\n",
    "csv_output_path = './model_comparison_results.csv'\n",
    "df_results.to_csv(csv_output_path, index=False)\n",
    "\n",
    "print(f\"Hasil evaluasi disimpan dalam file: {csv_output_path}\")"
   ]
  },
  {
   "cell_type": "code",
   "execution_count": 26,
   "id": "3c4ddf60-b75e-438a-8376-3b735e0bcb71",
   "metadata": {},
   "outputs": [
    {
     "data": {
      "image/png": "[encoded data removed]",
      "text/plain": [
       "<Figure size 640x480 with 1 Axes>"
      ]
     },
     "metadata": {},
     "output_type": "display_data"
    }
   ],
   "source": [
    "import matplotlib.pyplot as plt\n",
    "\n",
    "metrics = ['eval_accuracy', 'eval_precision', 'eval_recall', 'eval_f1']\n",
    "\n",
    "hidden_metrics = [eval_results_with_hidden.get(metric, None) for metric in metrics]\n",
    "no_hidden_metrics = [eval_results_without_hidden.get(metric, None) for metric in metrics]\n",
    "\n",
    "x_labels = metrics\n",
    "x_pos = np.arange(len(x_labels))\n",
    "\n",
    "fig, ax = plt.subplots()\n",
    "\n",
    "# Membuat bar plot perbandingan\n",
    "ax.bar(x_pos - 0.2, hidden_metrics, 0.4, label='Dengan Lapisan Tersembunyi')\n",
    "ax.bar(x_pos + 0.2, no_hidden_metrics, 0.4, label='Tanpa Lapisan Tersembunyi')\n",
    "\n",
    "ax.set_xticks(x_pos)\n",
    "ax.set_xticklabels(x_labels)\n",
    "ax.set_xlabel('Metrik')\n",
    "ax.set_ylabel('Nilai')\n",
    "ax.legend()\n",
    "\n",
    "plt.title(\"Perbandingan Evaluasi Model dengan dan Tanpa Lapisan Tersembunyi\")\n",
    "plt.show()"
   ]
  },
  {
   "cell_type": "code",
   "execution_count": 27,
   "id": "07354783-5b19-40c0-83d7-91b376225e2b",
   "metadata": {},
   "outputs": [
    {
     "data": {
      "image/png": "[encoded data removed]",
      "text/plain": [
       "<Figure size 640x480 with 1 Axes>"
      ]
     },
     "metadata": {},
     "output_type": "display_data"
    }
   ],
   "source": [
    "import matplotlib.pyplot as plt\n",
    "\n",
    "# Metrik yang dievaluasi\n",
    "metrics = ['eval_accuracy', 'eval_precision', 'eval_recall', 'eval_f1']\n",
    "\n",
    "# Hasil evaluasi untuk kedua model\n",
    "hidden_metrics = [eval_results_with_hidden.get(metric, None) for metric in metrics]\n",
    "no_hidden_metrics = [eval_results_without_hidden.get(metric, None) for metric in metrics]\n",
    "\n",
    "fig, ax = plt.subplots()\n",
    "\n",
    "# Plot perbandingan\n",
    "ax.plot(metrics, hidden_metrics, label='Dengan Lapisan Tersembunyi', marker='o')\n",
    "ax.plot(metrics, no_hidden_metrics, label='Tanpa Lapisan Tersembunyi', marker='o')\n",
    "\n",
    "ax.set_xlabel('Metrik')\n",
    "ax.set_ylabel('Nilai')\n",
    "ax.legend()\n",
    "\n",
    "plt.title(\"Perbandingan Evaluasi Model dengan dan Tanpa Lapisan Tersembunyi\")\n",
    "plt.show()"
   ]
  },
  {
   "cell_type": "code",
   "execution_count": 28,
   "id": "abc39b26-fa8a-40ec-8abf-293ad8683e46",
   "metadata": {},
   "outputs": [
    {
     "data": {
      "image/png": "[encoded data removed]",
      "text/plain": [
       "<Figure size 800x600 with 2 Axes>"
      ]
     },
     "metadata": {},
     "output_type": "display_data"
    }
   ],
   "source": [
    "import seaborn as sns\n",
    "import matplotlib.pyplot as plt\n",
    "import pandas as pd\n",
    "\n",
    "# Data untuk heatmap\n",
    "data = {\n",
    "    'Metrik': ['Akurasi', 'Presisi', 'Recall', 'F1-Score'],\n",
    "    'Dengan Lapisan Tersembunyi': hidden_metrics,\n",
    "    'Tanpa Lapisan Tersembunyi': no_hidden_metrics\n",
    "}\n",
    "\n",
    "df = pd.DataFrame(data)\n",
    "\n",
    "# Membuat heatmap\n",
    "plt.figure(figsize=(8, 6))\n",
    "sns.heatmap(df.set_index('Metrik').T, annot=True, cmap='coolwarm', cbar=True)\n",
    "plt.title(\"Perbandingan Metrik Model dengan dan Tanpa Lapisan Tersembunyi\")\n",
    "plt.show()"
   ]
  },
  {
   "cell_type": "code",
   "execution_count": 30,
   "id": "04c343ec-1aec-4155-bc8e-69f1f938c826",
   "metadata": {},
   "outputs": [
    {
     "name": "stdout",
     "output_type": "stream",
     "text": [
      "Model dengan lapisan tersembunyi disimpan di: ./model_with_hidden\n",
      "Model tanpa lapisan tersembunyi disimpan di: ./model_without_hidden\n"
     ]
    }
   ],
   "source": [
    "# Menyimpan model dengan lapisan tersembunyi\n",
    "model_with_hidden_output_path = './model_with_hidden'\n",
    "trainer_with_hidden.save_model(model_with_hidden_output_path)  # Menyimpan model\n",
    "print(f\"Model dengan lapisan tersembunyi disimpan di: {model_with_hidden_output_path}\")\n",
    "\n",
    "# Menyimpan model tanpa lapisan tersembunyi\n",
    "model_without_hidden_output_path = './model_without_hidden'\n",
    "trainer_without_hidden.save_model(model_without_hidden_output_path)  # Menyimpan model\n",
    "print(f\"Model tanpa lapisan tersembunyi disimpan di: {model_without_hidden_output_path}\")"
   ]
  }
 ],
 "metadata": {
  "kernelspec": {
   "display_name": "Python 3 (ipykernel)",
   "language": "python",
   "name": "python3"
  },
  "language_info": {
   "codemirror_mode": {
    "name": "ipython",
    "version": 3
   },
   "file_extension": ".py",
   "mimetype": "text/x-python",
   "name": "python",
   "nbconvert_exporter": "python",
   "pygments_lexer": "ipython3",
   "version": "3.11.11"
  }
 },
 "nbformat": 4,
 "nbformat_minor": 5
}
